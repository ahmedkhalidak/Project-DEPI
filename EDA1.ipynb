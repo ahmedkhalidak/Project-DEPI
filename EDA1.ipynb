{
 "cells": [
  {
   "cell_type": "code",
   "execution_count": 1,
   "id": "8b085792",
   "metadata": {},
   "outputs": [
    {
     "name": "stdout",
     "output_type": "stream",
     "text": [
      "Requirement already satisfied: numpy in /home/ahmedkhalid/anaconda3/lib/python3.12/site-packages (1.26.4)\n",
      "Requirement already satisfied: pandas in /home/ahmedkhalid/anaconda3/lib/python3.12/site-packages (2.2.2)\n",
      "Requirement already satisfied: matplotlib in /home/ahmedkhalid/anaconda3/lib/python3.12/site-packages (3.8.4)\n",
      "Requirement already satisfied: seaborn in /home/ahmedkhalid/anaconda3/lib/python3.12/site-packages (0.13.2)\n",
      "Requirement already satisfied: scikit-learn in /home/ahmedkhalid/anaconda3/lib/python3.12/site-packages (1.4.2)\n",
      "Requirement already satisfied: xgboost in /home/ahmedkhalid/anaconda3/lib/python3.12/site-packages (2.1.1)\n",
      "Requirement already satisfied: keras in /home/ahmedkhalid/anaconda3/lib/python3.12/site-packages (3.6.0)\n",
      "Requirement already satisfied: python-dateutil>=2.8.2 in /home/ahmedkhalid/anaconda3/lib/python3.12/site-packages (from pandas) (2.9.0.post0)\n",
      "Requirement already satisfied: pytz>=2020.1 in /home/ahmedkhalid/anaconda3/lib/python3.12/site-packages (from pandas) (2024.1)\n",
      "Requirement already satisfied: tzdata>=2022.7 in /home/ahmedkhalid/anaconda3/lib/python3.12/site-packages (from pandas) (2023.3)\n",
      "Requirement already satisfied: contourpy>=1.0.1 in /home/ahmedkhalid/anaconda3/lib/python3.12/site-packages (from matplotlib) (1.2.0)\n",
      "Requirement already satisfied: cycler>=0.10 in /home/ahmedkhalid/anaconda3/lib/python3.12/site-packages (from matplotlib) (0.11.0)\n",
      "Requirement already satisfied: fonttools>=4.22.0 in /home/ahmedkhalid/anaconda3/lib/python3.12/site-packages (from matplotlib) (4.51.0)\n",
      "Requirement already satisfied: kiwisolver>=1.3.1 in /home/ahmedkhalid/anaconda3/lib/python3.12/site-packages (from matplotlib) (1.4.4)\n",
      "Requirement already satisfied: packaging>=20.0 in /home/ahmedkhalid/anaconda3/lib/python3.12/site-packages (from matplotlib) (23.2)\n",
      "Requirement already satisfied: pillow>=8 in /home/ahmedkhalid/anaconda3/lib/python3.12/site-packages (from matplotlib) (10.3.0)\n",
      "Requirement already satisfied: pyparsing>=2.3.1 in /home/ahmedkhalid/anaconda3/lib/python3.12/site-packages (from matplotlib) (3.0.9)\n",
      "Requirement already satisfied: scipy>=1.6.0 in /home/ahmedkhalid/anaconda3/lib/python3.12/site-packages (from scikit-learn) (1.13.1)\n",
      "Requirement already satisfied: joblib>=1.2.0 in /home/ahmedkhalid/anaconda3/lib/python3.12/site-packages (from scikit-learn) (1.4.2)\n",
      "Requirement already satisfied: threadpoolctl>=2.0.0 in /home/ahmedkhalid/anaconda3/lib/python3.12/site-packages (from scikit-learn) (2.2.0)\n",
      "Requirement already satisfied: nvidia-nccl-cu12 in /home/ahmedkhalid/anaconda3/lib/python3.12/site-packages (from xgboost) (2.23.4)\n",
      "Requirement already satisfied: absl-py in /home/ahmedkhalid/anaconda3/lib/python3.12/site-packages (from keras) (2.1.0)\n",
      "Requirement already satisfied: rich in /home/ahmedkhalid/anaconda3/lib/python3.12/site-packages (from keras) (13.3.5)\n",
      "Requirement already satisfied: namex in /home/ahmedkhalid/anaconda3/lib/python3.12/site-packages (from keras) (0.0.8)\n",
      "Requirement already satisfied: h5py in /home/ahmedkhalid/anaconda3/lib/python3.12/site-packages (from keras) (3.11.0)\n",
      "Requirement already satisfied: optree in /home/ahmedkhalid/anaconda3/lib/python3.12/site-packages (from keras) (0.13.0)\n",
      "Requirement already satisfied: ml-dtypes in /home/ahmedkhalid/anaconda3/lib/python3.12/site-packages (from keras) (0.4.1)\n",
      "Requirement already satisfied: six>=1.5 in /home/ahmedkhalid/anaconda3/lib/python3.12/site-packages (from python-dateutil>=2.8.2->pandas) (1.16.0)\n",
      "Requirement already satisfied: typing-extensions>=4.5.0 in /home/ahmedkhalid/anaconda3/lib/python3.12/site-packages (from optree->keras) (4.11.0)\n",
      "Requirement already satisfied: markdown-it-py<3.0.0,>=2.2.0 in /home/ahmedkhalid/anaconda3/lib/python3.12/site-packages (from rich->keras) (2.2.0)\n",
      "Requirement already satisfied: pygments<3.0.0,>=2.13.0 in /home/ahmedkhalid/anaconda3/lib/python3.12/site-packages (from rich->keras) (2.15.1)\n",
      "Requirement already satisfied: mdurl~=0.1 in /home/ahmedkhalid/anaconda3/lib/python3.12/site-packages (from markdown-it-py<3.0.0,>=2.2.0->rich->keras) (0.1.0)\n"
     ]
    }
   ],
   "source": [
    "!pip install numpy pandas matplotlib seaborn scikit-learn xgboost keras\n"
   ]
  },
  {
   "cell_type": "code",
   "execution_count": 2,
   "id": "38663b61",
   "metadata": {},
   "outputs": [
    {
     "name": "stdout",
     "output_type": "stream",
     "text": [
      "Requirement already satisfied: matplotlib in /home/ahmedkhalid/anaconda3/lib/python3.12/site-packages (3.8.4)\n",
      "Requirement already satisfied: seaborn in /home/ahmedkhalid/anaconda3/lib/python3.12/site-packages (0.13.2)\n",
      "Requirement already satisfied: contourpy>=1.0.1 in /home/ahmedkhalid/anaconda3/lib/python3.12/site-packages (from matplotlib) (1.2.0)\n",
      "Requirement already satisfied: cycler>=0.10 in /home/ahmedkhalid/anaconda3/lib/python3.12/site-packages (from matplotlib) (0.11.0)\n",
      "Requirement already satisfied: fonttools>=4.22.0 in /home/ahmedkhalid/anaconda3/lib/python3.12/site-packages (from matplotlib) (4.51.0)\n",
      "Requirement already satisfied: kiwisolver>=1.3.1 in /home/ahmedkhalid/anaconda3/lib/python3.12/site-packages (from matplotlib) (1.4.4)\n",
      "Requirement already satisfied: numpy>=1.21 in /home/ahmedkhalid/anaconda3/lib/python3.12/site-packages (from matplotlib) (1.26.4)\n",
      "Requirement already satisfied: packaging>=20.0 in /home/ahmedkhalid/anaconda3/lib/python3.12/site-packages (from matplotlib) (23.2)\n",
      "Requirement already satisfied: pillow>=8 in /home/ahmedkhalid/anaconda3/lib/python3.12/site-packages (from matplotlib) (10.3.0)\n",
      "Requirement already satisfied: pyparsing>=2.3.1 in /home/ahmedkhalid/anaconda3/lib/python3.12/site-packages (from matplotlib) (3.0.9)\n",
      "Requirement already satisfied: python-dateutil>=2.7 in /home/ahmedkhalid/anaconda3/lib/python3.12/site-packages (from matplotlib) (2.9.0.post0)\n",
      "Requirement already satisfied: pandas>=1.2 in /home/ahmedkhalid/anaconda3/lib/python3.12/site-packages (from seaborn) (2.2.2)\n",
      "Requirement already satisfied: pytz>=2020.1 in /home/ahmedkhalid/anaconda3/lib/python3.12/site-packages (from pandas>=1.2->seaborn) (2024.1)\n",
      "Requirement already satisfied: tzdata>=2022.7 in /home/ahmedkhalid/anaconda3/lib/python3.12/site-packages (from pandas>=1.2->seaborn) (2023.3)\n",
      "Requirement already satisfied: six>=1.5 in /home/ahmedkhalid/anaconda3/lib/python3.12/site-packages (from python-dateutil>=2.7->matplotlib) (1.16.0)\n",
      "Requirement already satisfied: scikit-learn in /home/ahmedkhalid/anaconda3/lib/python3.12/site-packages (1.4.2)\n",
      "Requirement already satisfied: numpy>=1.19.5 in /home/ahmedkhalid/anaconda3/lib/python3.12/site-packages (from scikit-learn) (1.26.4)\n",
      "Requirement already satisfied: scipy>=1.6.0 in /home/ahmedkhalid/anaconda3/lib/python3.12/site-packages (from scikit-learn) (1.13.1)\n",
      "Requirement already satisfied: joblib>=1.2.0 in /home/ahmedkhalid/anaconda3/lib/python3.12/site-packages (from scikit-learn) (1.4.2)\n",
      "Requirement already satisfied: threadpoolctl>=2.0.0 in /home/ahmedkhalid/anaconda3/lib/python3.12/site-packages (from scikit-learn) (2.2.0)\n"
     ]
    }
   ],
   "source": [
    "!pip install matplotlib seaborn\n",
    "!pip install scikit-learn\n",
    "\n"
   ]
  },
  {
   "cell_type": "code",
   "execution_count": 3,
   "metadata": {},
   "outputs": [
    {
     "name": "stderr",
     "output_type": "stream",
     "text": [
      "2024-10-23 05:06:16.732297: I tensorflow/core/util/port.cc:153] oneDNN custom operations are on. You may see slightly different numerical results due to floating-point round-off errors from different computation orders. To turn them off, set the environment variable `TF_ENABLE_ONEDNN_OPTS=0`.\n",
      "2024-10-23 05:06:16.829637: I external/local_xla/xla/tsl/cuda/cudart_stub.cc:32] Could not find cuda drivers on your machine, GPU will not be used.\n",
      "2024-10-23 05:06:18.980761: I external/local_xla/xla/tsl/cuda/cudart_stub.cc:32] Could not find cuda drivers on your machine, GPU will not be used.\n",
      "2024-10-23 05:06:19.515366: E external/local_xla/xla/stream_executor/cuda/cuda_fft.cc:485] Unable to register cuFFT factory: Attempting to register factory for plugin cuFFT when one has already been registered\n",
      "2024-10-23 05:06:20.056670: E external/local_xla/xla/stream_executor/cuda/cuda_dnn.cc:8454] Unable to register cuDNN factory: Attempting to register factory for plugin cuDNN when one has already been registered\n",
      "2024-10-23 05:06:20.225281: E external/local_xla/xla/stream_executor/cuda/cuda_blas.cc:1452] Unable to register cuBLAS factory: Attempting to register factory for plugin cuBLAS when one has already been registered\n",
      "2024-10-23 05:06:22.505145: I tensorflow/core/platform/cpu_feature_guard.cc:210] This TensorFlow binary is optimized to use available CPU instructions in performance-critical operations.\n",
      "To enable the following instructions: AVX2 AVX512F AVX512_VNNI FMA, in other operations, rebuild TensorFlow with the appropriate compiler flags.\n",
      "2024-10-23 05:06:36.856078: W tensorflow/compiler/tf2tensorrt/utils/py_utils.cc:38] TF-TRT Warning: Could not find TensorRT\n"
     ]
    }
   ],
   "source": [
    "import numpy as np\n",
    "import pandas as pd\n",
    "import matplotlib.pyplot as plt\n",
    "import seaborn as sns\n",
    "from sklearn.model_selection import train_test_split, RandomizedSearchCV\n",
    "from sklearn.metrics import accuracy_score, confusion_matrix, classification_report\n",
    "from sklearn.preprocessing import StandardScaler\n",
    "from sklearn.linear_model import LogisticRegression\n",
    "from sklearn.naive_bayes import GaussianNB\n",
    "from sklearn import svm\n",
    "from sklearn.neighbors import KNeighborsClassifier\n",
    "from sklearn.tree import DecisionTreeClassifier\n",
    "from sklearn.ensemble import RandomForestClassifier, GradientBoostingClassifier\n",
    "import xgboost as xgb\n",
    "from keras.models import Sequential\n",
    "from keras.layers import Dense\n",
    "from keras.callbacks import EarlyStopping\n",
    "import time  \n",
    "\n",
    "# Function to evaluate model performance\n",
    "# Adjusted evaluate_model function\n",
    "def evaluate_model(model, X_train, Y_train, X_test, Y_test, algorithm_name, cv_folds=5):\n",
    "    start_time = time.time()\n",
    "    model.fit(X_train, Y_train)\n",
    "    Y_pred = model.predict(X_test)\n",
    "    elapsed_time = time.time() - start_time\n",
    "    accuracy = round(accuracy_score(Y_pred, Y_test) * 100, 2)\n",
    "    print(f\"\\n{algorithm_name} Results\")\n",
    "    print(f\"Accuracy: {accuracy}%\")\n",
    "    print(f\"Training and Prediction Time: {elapsed_time:.2f} seconds\")\n",
    "    print(\"Confusion Matrix:\")\n",
    "    print(confusion_matrix(Y_test, Y_pred))\n",
    "    print(\"Classification Report:\")\n",
    "    print(classification_report(Y_test, Y_pred))\n",
    "    return accuracy  # Return accuracy\n",
    "\n",
    "# Read and preprocess your dataset\n",
    "file_path = 'cardio_train.csv'\n",
    "dataset = pd.read_csv(file_path, delimiter=';')\n",
    "\n",
    "# Check for missing values and handle them if needed\n",
    "# dataset.isnull().sum()\n",
    "\n",
    "# Feature Scaling\n",
    "scaler = StandardScaler()\n",
    "features_scaled = scaler.fit_transform(dataset.drop('cardio', axis=1))\n",
    "\n",
    "# Train-test split\n",
    "predictors = pd.DataFrame(features_scaled, columns=dataset.columns[:-1])\n",
    "target = dataset[\"cardio\"]\n",
    "X_train, X_test, Y_train, Y_test = train_test_split(predictors, target, test_size=0.20, random_state=42)\n",
    "\n",
    "# Initialize lists for storing scores and algorithms\n",
    "scores = []\n",
    "algorithms = []\n"
   ]
  },
  {
   "cell_type": "markdown",
   "id": "cac110be",
   "metadata": {},
   "source": [
    "# Data Understanding"
   ]
  },
  {
   "cell_type": "code",
   "execution_count": 4,
   "id": "9cfdeb90",
   "metadata": {},
   "outputs": [
    {
     "data": {
      "text/html": [
       "<div>\n",
       "<style scoped>\n",
       "    .dataframe tbody tr th:only-of-type {\n",
       "        vertical-align: middle;\n",
       "    }\n",
       "\n",
       "    .dataframe tbody tr th {\n",
       "        vertical-align: top;\n",
       "    }\n",
       "\n",
       "    .dataframe thead th {\n",
       "        text-align: right;\n",
       "    }\n",
       "</style>\n",
       "<table border=\"1\" class=\"dataframe\">\n",
       "  <thead>\n",
       "    <tr style=\"text-align: right;\">\n",
       "      <th></th>\n",
       "      <th>id</th>\n",
       "      <th>age</th>\n",
       "      <th>gender</th>\n",
       "      <th>height</th>\n",
       "      <th>weight</th>\n",
       "      <th>ap_hi</th>\n",
       "      <th>ap_lo</th>\n",
       "      <th>cholesterol</th>\n",
       "      <th>gluc</th>\n",
       "      <th>smoke</th>\n",
       "      <th>alco</th>\n",
       "      <th>active</th>\n",
       "      <th>cardio</th>\n",
       "    </tr>\n",
       "  </thead>\n",
       "  <tbody>\n",
       "    <tr>\n",
       "      <th>0</th>\n",
       "      <td>0</td>\n",
       "      <td>18393</td>\n",
       "      <td>2</td>\n",
       "      <td>168</td>\n",
       "      <td>62.0</td>\n",
       "      <td>110</td>\n",
       "      <td>80</td>\n",
       "      <td>1</td>\n",
       "      <td>1</td>\n",
       "      <td>0</td>\n",
       "      <td>0</td>\n",
       "      <td>1</td>\n",
       "      <td>0</td>\n",
       "    </tr>\n",
       "    <tr>\n",
       "      <th>1</th>\n",
       "      <td>1</td>\n",
       "      <td>20228</td>\n",
       "      <td>1</td>\n",
       "      <td>156</td>\n",
       "      <td>85.0</td>\n",
       "      <td>140</td>\n",
       "      <td>90</td>\n",
       "      <td>3</td>\n",
       "      <td>1</td>\n",
       "      <td>0</td>\n",
       "      <td>0</td>\n",
       "      <td>1</td>\n",
       "      <td>1</td>\n",
       "    </tr>\n",
       "    <tr>\n",
       "      <th>2</th>\n",
       "      <td>2</td>\n",
       "      <td>18857</td>\n",
       "      <td>1</td>\n",
       "      <td>165</td>\n",
       "      <td>64.0</td>\n",
       "      <td>130</td>\n",
       "      <td>70</td>\n",
       "      <td>3</td>\n",
       "      <td>1</td>\n",
       "      <td>0</td>\n",
       "      <td>0</td>\n",
       "      <td>0</td>\n",
       "      <td>1</td>\n",
       "    </tr>\n",
       "    <tr>\n",
       "      <th>3</th>\n",
       "      <td>3</td>\n",
       "      <td>17623</td>\n",
       "      <td>2</td>\n",
       "      <td>169</td>\n",
       "      <td>82.0</td>\n",
       "      <td>150</td>\n",
       "      <td>100</td>\n",
       "      <td>1</td>\n",
       "      <td>1</td>\n",
       "      <td>0</td>\n",
       "      <td>0</td>\n",
       "      <td>1</td>\n",
       "      <td>1</td>\n",
       "    </tr>\n",
       "    <tr>\n",
       "      <th>4</th>\n",
       "      <td>4</td>\n",
       "      <td>17474</td>\n",
       "      <td>1</td>\n",
       "      <td>156</td>\n",
       "      <td>56.0</td>\n",
       "      <td>100</td>\n",
       "      <td>60</td>\n",
       "      <td>1</td>\n",
       "      <td>1</td>\n",
       "      <td>0</td>\n",
       "      <td>0</td>\n",
       "      <td>0</td>\n",
       "      <td>0</td>\n",
       "    </tr>\n",
       "  </tbody>\n",
       "</table>\n",
       "</div>"
      ],
      "text/plain": [
       "   id    age  gender  height  weight  ap_hi  ap_lo  cholesterol  gluc  smoke  \\\n",
       "0   0  18393       2     168    62.0    110     80            1     1      0   \n",
       "1   1  20228       1     156    85.0    140     90            3     1      0   \n",
       "2   2  18857       1     165    64.0    130     70            3     1      0   \n",
       "3   3  17623       2     169    82.0    150    100            1     1      0   \n",
       "4   4  17474       1     156    56.0    100     60            1     1      0   \n",
       "\n",
       "   alco  active  cardio  \n",
       "0     0       1       0  \n",
       "1     0       1       1  \n",
       "2     0       0       1  \n",
       "3     0       1       1  \n",
       "4     0       0       0  "
      ]
     },
     "execution_count": 4,
     "metadata": {},
     "output_type": "execute_result"
    }
   ],
   "source": [
    "df=pd.read_csv('cardio_train.csv',sep=';')\n",
    "df.head()"
   ]
  },
  {
   "cell_type": "code",
   "execution_count": 5,
   "id": "14c1d796",
   "metadata": {},
   "outputs": [
    {
     "name": "stdout",
     "output_type": "stream",
     "text": [
      "<class 'pandas.core.frame.DataFrame'>\n",
      "RangeIndex: 70000 entries, 0 to 69999\n",
      "Data columns (total 13 columns):\n",
      " #   Column       Non-Null Count  Dtype  \n",
      "---  ------       --------------  -----  \n",
      " 0   id           70000 non-null  int64  \n",
      " 1   age          70000 non-null  int64  \n",
      " 2   gender       70000 non-null  int64  \n",
      " 3   height       70000 non-null  int64  \n",
      " 4   weight       70000 non-null  float64\n",
      " 5   ap_hi        70000 non-null  int64  \n",
      " 6   ap_lo        70000 non-null  int64  \n",
      " 7   cholesterol  70000 non-null  int64  \n",
      " 8   gluc         70000 non-null  int64  \n",
      " 9   smoke        70000 non-null  int64  \n",
      " 10  alco         70000 non-null  int64  \n",
      " 11  active       70000 non-null  int64  \n",
      " 12  cardio       70000 non-null  int64  \n",
      "dtypes: float64(1), int64(12)\n",
      "memory usage: 6.9 MB\n"
     ]
    }
   ],
   "source": [
    "df.info()"
   ]
  },
  {
   "cell_type": "code",
   "execution_count": 6,
   "id": "dda2c7f9",
   "metadata": {},
   "outputs": [
    {
     "data": {
      "text/plain": [
       "id             0\n",
       "age            0\n",
       "gender         0\n",
       "height         0\n",
       "weight         0\n",
       "ap_hi          0\n",
       "ap_lo          0\n",
       "cholesterol    0\n",
       "gluc           0\n",
       "smoke          0\n",
       "alco           0\n",
       "active         0\n",
       "cardio         0\n",
       "dtype: int64"
      ]
     },
     "execution_count": 6,
     "metadata": {},
     "output_type": "execute_result"
    }
   ],
   "source": [
    "df.isnull().sum()"
   ]
  },
  {
   "cell_type": "code",
   "execution_count": 7,
   "id": "c0639a57",
   "metadata": {},
   "outputs": [
    {
     "data": {
      "text/plain": [
       "0"
      ]
     },
     "execution_count": 7,
     "metadata": {},
     "output_type": "execute_result"
    }
   ],
   "source": [
    "df.duplicated().sum()"
   ]
  },
  {
   "cell_type": "code",
   "execution_count": 7,
   "id": "030a2329",
   "metadata": {},
   "outputs": [
    {
     "data": {
      "text/plain": [
       "id             70000\n",
       "age             8076\n",
       "gender             2\n",
       "height           109\n",
       "weight           287\n",
       "ap_hi            153\n",
       "ap_lo            157\n",
       "cholesterol        3\n",
       "gluc               3\n",
       "smoke              2\n",
       "alco               2\n",
       "active             2\n",
       "cardio             2\n",
       "dtype: int64"
      ]
     },
     "execution_count": 7,
     "metadata": {},
     "output_type": "execute_result"
    }
   ],
   "source": [
    "df.nunique()"
   ]
  },
  {
   "cell_type": "code",
   "execution_count": 8,
   "id": "e27ffa1e",
   "metadata": {},
   "outputs": [
    {
     "data": {
      "text/html": [
       "<div>\n",
       "<style scoped>\n",
       "    .dataframe tbody tr th:only-of-type {\n",
       "        vertical-align: middle;\n",
       "    }\n",
       "\n",
       "    .dataframe tbody tr th {\n",
       "        vertical-align: top;\n",
       "    }\n",
       "\n",
       "    .dataframe thead th {\n",
       "        text-align: right;\n",
       "    }\n",
       "</style>\n",
       "<table border=\"1\" class=\"dataframe\">\n",
       "  <thead>\n",
       "    <tr style=\"text-align: right;\">\n",
       "      <th></th>\n",
       "      <th>id</th>\n",
       "      <th>age</th>\n",
       "      <th>gender</th>\n",
       "      <th>height</th>\n",
       "      <th>weight</th>\n",
       "      <th>ap_hi</th>\n",
       "      <th>ap_lo</th>\n",
       "      <th>cholesterol</th>\n",
       "      <th>gluc</th>\n",
       "      <th>smoke</th>\n",
       "      <th>alco</th>\n",
       "      <th>active</th>\n",
       "      <th>cardio</th>\n",
       "    </tr>\n",
       "  </thead>\n",
       "  <tbody>\n",
       "    <tr>\n",
       "      <th>count</th>\n",
       "      <td>70000.000000</td>\n",
       "      <td>70000.000000</td>\n",
       "      <td>70000.000000</td>\n",
       "      <td>70000.000000</td>\n",
       "      <td>70000.000000</td>\n",
       "      <td>70000.000000</td>\n",
       "      <td>70000.000000</td>\n",
       "      <td>70000.000000</td>\n",
       "      <td>70000.000000</td>\n",
       "      <td>70000.000000</td>\n",
       "      <td>70000.000000</td>\n",
       "      <td>70000.000000</td>\n",
       "      <td>70000.000000</td>\n",
       "    </tr>\n",
       "    <tr>\n",
       "      <th>mean</th>\n",
       "      <td>49972.419900</td>\n",
       "      <td>19468.865814</td>\n",
       "      <td>1.349571</td>\n",
       "      <td>164.359229</td>\n",
       "      <td>74.205690</td>\n",
       "      <td>128.817286</td>\n",
       "      <td>96.630414</td>\n",
       "      <td>1.366871</td>\n",
       "      <td>1.226457</td>\n",
       "      <td>0.088129</td>\n",
       "      <td>0.053771</td>\n",
       "      <td>0.803729</td>\n",
       "      <td>0.499700</td>\n",
       "    </tr>\n",
       "    <tr>\n",
       "      <th>std</th>\n",
       "      <td>28851.302323</td>\n",
       "      <td>2467.251667</td>\n",
       "      <td>0.476838</td>\n",
       "      <td>8.210126</td>\n",
       "      <td>14.395757</td>\n",
       "      <td>154.011419</td>\n",
       "      <td>188.472530</td>\n",
       "      <td>0.680250</td>\n",
       "      <td>0.572270</td>\n",
       "      <td>0.283484</td>\n",
       "      <td>0.225568</td>\n",
       "      <td>0.397179</td>\n",
       "      <td>0.500003</td>\n",
       "    </tr>\n",
       "    <tr>\n",
       "      <th>min</th>\n",
       "      <td>0.000000</td>\n",
       "      <td>10798.000000</td>\n",
       "      <td>1.000000</td>\n",
       "      <td>55.000000</td>\n",
       "      <td>10.000000</td>\n",
       "      <td>-150.000000</td>\n",
       "      <td>-70.000000</td>\n",
       "      <td>1.000000</td>\n",
       "      <td>1.000000</td>\n",
       "      <td>0.000000</td>\n",
       "      <td>0.000000</td>\n",
       "      <td>0.000000</td>\n",
       "      <td>0.000000</td>\n",
       "    </tr>\n",
       "    <tr>\n",
       "      <th>25%</th>\n",
       "      <td>25006.750000</td>\n",
       "      <td>17664.000000</td>\n",
       "      <td>1.000000</td>\n",
       "      <td>159.000000</td>\n",
       "      <td>65.000000</td>\n",
       "      <td>120.000000</td>\n",
       "      <td>80.000000</td>\n",
       "      <td>1.000000</td>\n",
       "      <td>1.000000</td>\n",
       "      <td>0.000000</td>\n",
       "      <td>0.000000</td>\n",
       "      <td>1.000000</td>\n",
       "      <td>0.000000</td>\n",
       "    </tr>\n",
       "    <tr>\n",
       "      <th>50%</th>\n",
       "      <td>50001.500000</td>\n",
       "      <td>19703.000000</td>\n",
       "      <td>1.000000</td>\n",
       "      <td>165.000000</td>\n",
       "      <td>72.000000</td>\n",
       "      <td>120.000000</td>\n",
       "      <td>80.000000</td>\n",
       "      <td>1.000000</td>\n",
       "      <td>1.000000</td>\n",
       "      <td>0.000000</td>\n",
       "      <td>0.000000</td>\n",
       "      <td>1.000000</td>\n",
       "      <td>0.000000</td>\n",
       "    </tr>\n",
       "    <tr>\n",
       "      <th>75%</th>\n",
       "      <td>74889.250000</td>\n",
       "      <td>21327.000000</td>\n",
       "      <td>2.000000</td>\n",
       "      <td>170.000000</td>\n",
       "      <td>82.000000</td>\n",
       "      <td>140.000000</td>\n",
       "      <td>90.000000</td>\n",
       "      <td>2.000000</td>\n",
       "      <td>1.000000</td>\n",
       "      <td>0.000000</td>\n",
       "      <td>0.000000</td>\n",
       "      <td>1.000000</td>\n",
       "      <td>1.000000</td>\n",
       "    </tr>\n",
       "    <tr>\n",
       "      <th>max</th>\n",
       "      <td>99999.000000</td>\n",
       "      <td>23713.000000</td>\n",
       "      <td>2.000000</td>\n",
       "      <td>250.000000</td>\n",
       "      <td>200.000000</td>\n",
       "      <td>16020.000000</td>\n",
       "      <td>11000.000000</td>\n",
       "      <td>3.000000</td>\n",
       "      <td>3.000000</td>\n",
       "      <td>1.000000</td>\n",
       "      <td>1.000000</td>\n",
       "      <td>1.000000</td>\n",
       "      <td>1.000000</td>\n",
       "    </tr>\n",
       "  </tbody>\n",
       "</table>\n",
       "</div>"
      ],
      "text/plain": [
       "                 id           age        gender        height        weight  \\\n",
       "count  70000.000000  70000.000000  70000.000000  70000.000000  70000.000000   \n",
       "mean   49972.419900  19468.865814      1.349571    164.359229     74.205690   \n",
       "std    28851.302323   2467.251667      0.476838      8.210126     14.395757   \n",
       "min        0.000000  10798.000000      1.000000     55.000000     10.000000   \n",
       "25%    25006.750000  17664.000000      1.000000    159.000000     65.000000   \n",
       "50%    50001.500000  19703.000000      1.000000    165.000000     72.000000   \n",
       "75%    74889.250000  21327.000000      2.000000    170.000000     82.000000   \n",
       "max    99999.000000  23713.000000      2.000000    250.000000    200.000000   \n",
       "\n",
       "              ap_hi         ap_lo   cholesterol          gluc         smoke  \\\n",
       "count  70000.000000  70000.000000  70000.000000  70000.000000  70000.000000   \n",
       "mean     128.817286     96.630414      1.366871      1.226457      0.088129   \n",
       "std      154.011419    188.472530      0.680250      0.572270      0.283484   \n",
       "min     -150.000000    -70.000000      1.000000      1.000000      0.000000   \n",
       "25%      120.000000     80.000000      1.000000      1.000000      0.000000   \n",
       "50%      120.000000     80.000000      1.000000      1.000000      0.000000   \n",
       "75%      140.000000     90.000000      2.000000      1.000000      0.000000   \n",
       "max    16020.000000  11000.000000      3.000000      3.000000      1.000000   \n",
       "\n",
       "               alco        active        cardio  \n",
       "count  70000.000000  70000.000000  70000.000000  \n",
       "mean       0.053771      0.803729      0.499700  \n",
       "std        0.225568      0.397179      0.500003  \n",
       "min        0.000000      0.000000      0.000000  \n",
       "25%        0.000000      1.000000      0.000000  \n",
       "50%        0.000000      1.000000      0.000000  \n",
       "75%        0.000000      1.000000      1.000000  \n",
       "max        1.000000      1.000000      1.000000  "
      ]
     },
     "execution_count": 8,
     "metadata": {},
     "output_type": "execute_result"
    }
   ],
   "source": [
    "df.describe()"
   ]
  },
  {
   "cell_type": "markdown",
   "id": "cda2f37f",
   "metadata": {},
   "source": [
    "# Data Manipulation"
   ]
  },
  {
   "cell_type": "code",
   "execution_count": 9,
   "id": "4ebca4d6",
   "metadata": {},
   "outputs": [
    {
     "data": {
      "text/html": [
       "<div>\n",
       "<style scoped>\n",
       "    .dataframe tbody tr th:only-of-type {\n",
       "        vertical-align: middle;\n",
       "    }\n",
       "\n",
       "    .dataframe tbody tr th {\n",
       "        vertical-align: top;\n",
       "    }\n",
       "\n",
       "    .dataframe thead th {\n",
       "        text-align: right;\n",
       "    }\n",
       "</style>\n",
       "<table border=\"1\" class=\"dataframe\">\n",
       "  <thead>\n",
       "    <tr style=\"text-align: right;\">\n",
       "      <th></th>\n",
       "      <th>age</th>\n",
       "      <th>gender</th>\n",
       "      <th>height</th>\n",
       "      <th>weight</th>\n",
       "      <th>ap_hi</th>\n",
       "      <th>ap_lo</th>\n",
       "      <th>cholesterol</th>\n",
       "      <th>gluc</th>\n",
       "      <th>smoke</th>\n",
       "      <th>alco</th>\n",
       "      <th>active</th>\n",
       "      <th>cardio</th>\n",
       "    </tr>\n",
       "  </thead>\n",
       "  <tbody>\n",
       "    <tr>\n",
       "      <th>0</th>\n",
       "      <td>50</td>\n",
       "      <td>2</td>\n",
       "      <td>168</td>\n",
       "      <td>62.0</td>\n",
       "      <td>110</td>\n",
       "      <td>80</td>\n",
       "      <td>1</td>\n",
       "      <td>1</td>\n",
       "      <td>0</td>\n",
       "      <td>0</td>\n",
       "      <td>1</td>\n",
       "      <td>0</td>\n",
       "    </tr>\n",
       "    <tr>\n",
       "      <th>1</th>\n",
       "      <td>55</td>\n",
       "      <td>1</td>\n",
       "      <td>156</td>\n",
       "      <td>85.0</td>\n",
       "      <td>140</td>\n",
       "      <td>90</td>\n",
       "      <td>3</td>\n",
       "      <td>1</td>\n",
       "      <td>0</td>\n",
       "      <td>0</td>\n",
       "      <td>1</td>\n",
       "      <td>1</td>\n",
       "    </tr>\n",
       "    <tr>\n",
       "      <th>2</th>\n",
       "      <td>51</td>\n",
       "      <td>1</td>\n",
       "      <td>165</td>\n",
       "      <td>64.0</td>\n",
       "      <td>130</td>\n",
       "      <td>70</td>\n",
       "      <td>3</td>\n",
       "      <td>1</td>\n",
       "      <td>0</td>\n",
       "      <td>0</td>\n",
       "      <td>0</td>\n",
       "      <td>1</td>\n",
       "    </tr>\n",
       "    <tr>\n",
       "      <th>3</th>\n",
       "      <td>48</td>\n",
       "      <td>2</td>\n",
       "      <td>169</td>\n",
       "      <td>82.0</td>\n",
       "      <td>150</td>\n",
       "      <td>100</td>\n",
       "      <td>1</td>\n",
       "      <td>1</td>\n",
       "      <td>0</td>\n",
       "      <td>0</td>\n",
       "      <td>1</td>\n",
       "      <td>1</td>\n",
       "    </tr>\n",
       "    <tr>\n",
       "      <th>4</th>\n",
       "      <td>47</td>\n",
       "      <td>1</td>\n",
       "      <td>156</td>\n",
       "      <td>56.0</td>\n",
       "      <td>100</td>\n",
       "      <td>60</td>\n",
       "      <td>1</td>\n",
       "      <td>1</td>\n",
       "      <td>0</td>\n",
       "      <td>0</td>\n",
       "      <td>0</td>\n",
       "      <td>0</td>\n",
       "    </tr>\n",
       "  </tbody>\n",
       "</table>\n",
       "</div>"
      ],
      "text/plain": [
       "   age  gender  height  weight  ap_hi  ap_lo  cholesterol  gluc  smoke  alco  \\\n",
       "0   50       2     168    62.0    110     80            1     1      0     0   \n",
       "1   55       1     156    85.0    140     90            3     1      0     0   \n",
       "2   51       1     165    64.0    130     70            3     1      0     0   \n",
       "3   48       2     169    82.0    150    100            1     1      0     0   \n",
       "4   47       1     156    56.0    100     60            1     1      0     0   \n",
       "\n",
       "   active  cardio  \n",
       "0       1       0  \n",
       "1       1       1  \n",
       "2       0       1  \n",
       "3       1       1  \n",
       "4       0       0  "
      ]
     },
     "execution_count": 9,
     "metadata": {},
     "output_type": "execute_result"
    }
   ],
   "source": [
    "df.drop('id',axis=1,inplace=True)\n",
    "\n",
    "df['age']=(df['age']/365).astype(int)\n",
    "\n",
    "df.head()"
   ]
  },
  {
   "cell_type": "code",
   "execution_count": 10,
   "id": "8b9316ce",
   "metadata": {},
   "outputs": [
    {
     "data": {
      "image/png": "[encoded data removed]",
      "text/plain": [
       "<Figure size 1200x1000 with 2 Axes>"
      ]
     },
     "metadata": {},
     "output_type": "display_data"
    }
   ],
   "source": [
    "import matplotlib.pyplot as plt\n",
    "import seaborn as sns\n",
    "\n",
    "# Assuming 'df' is your DataFrame\n",
    "correlation = df.corr(numeric_only=True)\n",
    "\n",
    "# Generate a mask for the upper triangle\n",
    "mask = np.triu(np.ones_like(correlation, dtype=bool))\n",
    "\n",
    "# Set up the matplotlib figure\n",
    "plt.figure(figsize=(12, 10))\n",
    "\n",
    "# Draw the heatmap with the mask and correct aspect ratio\n",
    "sns.heatmap(correlation, mask=mask, annot=True, cmap='coolwarm', fmt=\".2f\",\n",
    "            linewidths=.5, cbar_kws={\"shrink\": .5})\n",
    "\n",
    "plt.title('Correlation Matrix of Features', fontsize=16)\n",
    "plt.xticks(rotation=45)\n",
    "plt.yticks(rotation=0)\n",
    "plt.tight_layout()\n",
    "plt.show()\n"
   ]
  },
  {
   "cell_type": "code",
   "execution_count": 11,
   "id": "66355b24",
   "metadata": {},
   "outputs": [],
   "source": [
    "#the risk of cardio by age\n",
    "mean_cardio_by_age=df.groupby('age')['cardio'].mean()"
   ]
  },
  {
   "cell_type": "code",
   "execution_count": 12,
   "id": "a474f365",
   "metadata": {},
   "outputs": [
    {
     "data": {
      "image/png": "[encoded data removed]",
      "text/plain": [
       "<Figure size 1200x700 with 1 Axes>"
      ]
     },
     "metadata": {},
     "output_type": "display_data"
    }
   ],
   "source": [
    "import matplotlib.pyplot as plt\n",
    "import seaborn as sns\n",
    "\n",
    "# Set the aesthetic style of the plots\n",
    "sns.set_style(\"whitegrid\")\n",
    "\n",
    "# Create the plot\n",
    "plt.figure(figsize=(12, 7))\n",
    "bars = plt.bar(mean_cardio_by_age.index, mean_cardio_by_age.values, color=sns.color_palette(\"mako\", len(mean_cardio_by_age)))\n",
    "\n",
    "# Add value labels on top of each bar\n",
    "for bar in bars:\n",
    "    yval = bar.get_height()\n",
    "    plt.text(bar.get_x() + bar.get_width()/2, yval + 0.005, round(yval, 2), ha='center', va='bottom')\n",
    "\n",
    "# Set labels and title\n",
    "plt.xlabel('Age', fontsize=12)\n",
    "plt.ylabel('Average Cardio Score', fontsize=12)\n",
    "plt.title('Average Cardiovascular Health Score by Age', fontsize=14)\n",
    "\n",
    "# Show the plot\n",
    "plt.show()\n"
   ]
  },
  {
   "cell_type": "code",
   "execution_count": 13,
   "id": "7c32d8f5",
   "metadata": {},
   "outputs": [
    {
     "data": {
      "text/plain": [
       "gender\n",
       "1    45530\n",
       "2    24470\n",
       "Name: count, dtype: int64"
      ]
     },
     "execution_count": 13,
     "metadata": {},
     "output_type": "execute_result"
    }
   ],
   "source": [
    "gender_counts = df['gender'].value_counts()\n",
    "gender_counts"
   ]
  },
  {
   "cell_type": "code",
   "execution_count": 14,
   "id": "60045ceb",
   "metadata": {},
   "outputs": [
    {
     "name": "stderr",
     "output_type": "stream",
     "text": [
      "/tmp/ipykernel_5900/2054528714.py:1: FutureWarning: A value is trying to be set on a copy of a DataFrame or Series through chained assignment using an inplace method.\n",
      "The behavior will change in pandas 3.0. This inplace method will never work because the intermediate object on which we are setting values always behaves as a copy.\n",
      "\n",
      "For example, when doing 'df[col].method(value, inplace=True)', try using 'df.method({col: value}, inplace=True)' or df[col] = df[col].method(value) instead, to perform the operation inplace on the original object.\n",
      "\n",
      "\n",
      "  df['gender'].replace({1: 'Female', 2: 'Male'}, inplace=True)\n",
      "/tmp/ipykernel_5900/2054528714.py:2: FutureWarning: A value is trying to be set on a copy of a DataFrame or Series through chained assignment using an inplace method.\n",
      "The behavior will change in pandas 3.0. This inplace method will never work because the intermediate object on which we are setting values always behaves as a copy.\n",
      "\n",
      "For example, when doing 'df[col].method(value, inplace=True)', try using 'df.method({col: value}, inplace=True)' or df[col] = df[col].method(value) instead, to perform the operation inplace on the original object.\n",
      "\n",
      "\n",
      "  df['cardio'].replace({0:'No Cardio', 1:'With Cardio'}, inplace=True)\n"
     ]
    }
   ],
   "source": [
    "df['gender'].replace({1: 'Female', 2: 'Male'}, inplace=True)\n",
    "df['cardio'].replace({0:'No Cardio', 1:'With Cardio'}, inplace=True)"
   ]
  },
  {
   "cell_type": "code",
   "execution_count": 15,
   "id": "bb771fbc",
   "metadata": {},
   "outputs": [
    {
     "name": "stdout",
     "output_type": "stream",
     "text": [
      "object\n"
     ]
    }
   ],
   "source": [
    "print(df['cardio'].dtype)\n"
   ]
  },
  {
   "cell_type": "code",
   "execution_count": 16,
   "id": "02fe0d4c",
   "metadata": {},
   "outputs": [],
   "source": [
    "df['cardio'] = pd.to_numeric(df['cardio'], errors='coerce')\n",
    "gender_counts = df[df['cardio'] == 1]['gender'].value_counts()\n"
   ]
  },
  {
   "cell_type": "code",
   "execution_count": 18,
   "id": "bebface8",
   "metadata": {},
   "outputs": [
    {
     "data": {
      "image/png": "[encoded data removed]",
      "text/plain": [
       "<Figure size 1400x2000 with 2 Axes>"
      ]
     },
     "metadata": {},
     "output_type": "display_data"
    }
   ],
   "source": [
    "fig, ax = plt.subplots(1, 2, figsize=(14, 20))\n",
    "plt.tight_layout(pad=10)\n",
    "\n",
    "# Custom color palettes\n",
    "cardio_colors = ['#ff9999', '#66b3ff']\n",
    "gender_colors = ['#ffcc99', '#c2c2f0']\n",
    "\n",
    "# Pie chart for Cardio percentage\n",
    "cardio_counts = df['cardio'].value_counts()\n",
    "explode_cardio = (0.05,) * len(cardio_counts)  # Ensure explode matches the length of cardio_counts\n",
    "ax[0].pie(x=cardio_counts, labels=cardio_counts.index, autopct='%1.1f%%', shadow=True, startangle=90, \n",
    "          colors=cardio_colors, explode=explode_cardio)\n",
    "ax[0].set_title('Cardio percentage')\n",
    "\n",
    "# Pie chart for Cardiovascular patients gender percentage\n",
    "gender_counts = df[df['cardio'] == 'With Cardio']['gender'].value_counts()\n",
    "explode_gender = (0.05,) * len(gender_counts)  # Ensure explode matches the length of gender_counts\n",
    "ax[1].pie(x=gender_counts, labels=gender_counts.index, autopct='%1.1f%%', shadow=True, startangle=90, \n",
    "          colors=gender_colors, explode=explode_gender)\n",
    "ax[1].set_title('Cardiovascular patients gender percentage')\n",
    "\n",
    "plt.show()\n"
   ]
  },
  {
   "cell_type": "code",
   "execution_count": 21,
   "id": "816bd5ab",
   "metadata": {},
   "outputs": [],
   "source": [
    "df['cholesterol']=df['cholesterol'].replace({1: 'normal', 2: 'above normal', 3: 'well above normal' })"
   ]
  },
  {
   "cell_type": "code",
   "execution_count": 22,
   "id": "677cf187",
   "metadata": {},
   "outputs": [
    {
     "data": {
      "text/plain": [
       "cholesterol\n",
       "normal               52385\n",
       "above normal          9549\n",
       "well above normal     8066\n",
       "Name: count, dtype: int64"
      ]
     },
     "execution_count": 22,
     "metadata": {},
     "output_type": "execute_result"
    }
   ],
   "source": [
    "cholesterol_counts2 = df['cholesterol'].value_counts()\n",
    "cholesterol_counts2"
   ]
  },
  {
   "cell_type": "code",
   "execution_count": null,
   "id": "443d2591",
   "metadata": {},
   "outputs": [],
   "source": []
  },
  {
   "cell_type": "code",
   "execution_count": null,
   "id": "0b55d5a8",
   "metadata": {},
   "outputs": [
    {
     "ename": "NameError",
     "evalue": "name 'colors' is not defined",
     "output_type": "error",
     "traceback": [
      "\u001b[0;31m---------------------------------------------------------------------------\u001b[0m",
      "\u001b[0;31mNameError\u001b[0m                                 Traceback (most recent call last)",
      "Cell \u001b[0;32mIn[19], line 4\u001b[0m\n\u001b[1;32m      1\u001b[0m fig, axes \u001b[38;5;241m=\u001b[39m plt\u001b[38;5;241m.\u001b[39msubplots(\u001b[38;5;241m1\u001b[39m, \u001b[38;5;241m2\u001b[39m, figsize\u001b[38;5;241m=\u001b[39m(\u001b[38;5;241m15\u001b[39m, \u001b[38;5;241m5\u001b[39m), sharey\u001b[38;5;241m=\u001b[39m\u001b[38;5;28;01mTrue\u001b[39;00m)\n\u001b[1;32m      2\u001b[0m fig\u001b[38;5;241m.\u001b[39msuptitle(\u001b[38;5;124m'\u001b[39m\u001b[38;5;124mSmoke and Alcohol using by gender\u001b[39m\u001b[38;5;124m'\u001b[39m)\n\u001b[0;32m----> 4\u001b[0m sns\u001b[38;5;241m.\u001b[39mcountplot(ax\u001b[38;5;241m=\u001b[39maxes[\u001b[38;5;241m0\u001b[39m], x\u001b[38;5;241m=\u001b[39mdf\u001b[38;5;241m.\u001b[39msmoke,hue\u001b[38;5;241m=\u001b[39mdf\u001b[38;5;241m.\u001b[39mgender,palette\u001b[38;5;241m=\u001b[39mcolors)\n\u001b[1;32m      5\u001b[0m axes[\u001b[38;5;241m0\u001b[39m]\u001b[38;5;241m.\u001b[39mset_title(\u001b[38;5;124m\"\u001b[39m\u001b[38;5;124mSmoke use for gender\u001b[39m\u001b[38;5;124m\"\u001b[39m)\n\u001b[1;32m      8\u001b[0m sns\u001b[38;5;241m.\u001b[39mcountplot(ax\u001b[38;5;241m=\u001b[39maxes[\u001b[38;5;241m1\u001b[39m], x\u001b[38;5;241m=\u001b[39mdf\u001b[38;5;241m.\u001b[39malco,hue\u001b[38;5;241m=\u001b[39mdf\u001b[38;5;241m.\u001b[39mgender,palette\u001b[38;5;241m=\u001b[39mcolors)\n",
      "\u001b[0;31mNameError\u001b[0m: name 'colors' is not defined"
     ]
    },
    {
     "data": {
      "image/png": "[encoded data removed]",
      "text/plain": [
       "<Figure size 1500x500 with 2 Axes>"
      ]
     },
     "metadata": {},
     "output_type": "display_data"
    }
   ],
   "source": [
    "fig, axes = plt.subplots(1, 2, figsize=(15, 5), sharey=True)\n",
    "fig.suptitle('Smoke and Alcohol using by gender')\n",
    "\n",
    "sns.countplot(ax=axes[0], x=df.smoke,hue=df.gender,palette=colors)\n",
    "axes[0].set_title(\"Smoke use for gender\")\n",
    "\n",
    "\n",
    "sns.countplot(ax=axes[1], x=df.alco,hue=df.gender,palette=colors)\n",
    "axes[1].set_title(\"Alcohol use for gender\")\n",
    "plt.show()"
   ]
  },
  {
   "cell_type": "code",
   "execution_count": 25,
   "id": "ed9f6847",
   "metadata": {},
   "outputs": [],
   "source": [
    "df['gluc']=df['gluc'].replace({1: 'normal', 2: 'above normal', 3: 'well above normal' })"
   ]
  },
  {
   "cell_type": "code",
   "execution_count": 27,
   "id": "06a83dd8",
   "metadata": {},
   "outputs": [
    {
     "data": {
      "image/png": "[encoded data removed]",
      "text/plain": [
       "<Figure size 640x480 with 1 Axes>"
      ]
     },
     "metadata": {},
     "output_type": "display_data"
    }
   ],
   "source": [
    "cross_tab = pd.crosstab(df['gluc'], df['cardio'])\n",
    "#cross_tab.plot(kind='bar', color=colors) \n",
    "\n",
    "plt.title('Relationship between Glucose and Cardio')\n",
    "plt.xlabel('Glucose')\n",
    "plt.ylabel('Count')\n",
    "plt.legend(title='Cardio', labels=['No Cardio', 'Cardio'])\n",
    "\n",
    "plt.show()"
   ]
  },
  {
   "cell_type": "code",
   "execution_count": 28,
   "id": "6a051947",
   "metadata": {},
   "outputs": [],
   "source": [
    "# Filter data by gender\n",
    "male_data = df[df['gender'] == 'Male']\n",
    "female_data = df[df['gender'] == 'Female']"
   ]
  },
  {
   "cell_type": "code",
   "execution_count": 29,
   "id": "aa4cf8eb",
   "metadata": {},
   "outputs": [
    {
     "name": "stderr",
     "output_type": "stream",
     "text": [
      "/tmp/ipykernel_26705/680908389.py:5: UserWarning: Ignoring `palette` because no `hue` variable has been assigned.\n",
      "  sns.countplot(x='height', hue='cardio', data=male_data, palette='Blues', ax=axes[0])\n",
      "No artists with labels found to put in legend.  Note that artists whose label start with an underscore are ignored when legend() is called with no argument.\n",
      "/tmp/ipykernel_26705/680908389.py:13: UserWarning: Ignoring `palette` because no `hue` variable has been assigned.\n",
      "  sns.countplot(x='height', hue='cardio', data=female_data, palette='Blues', ax=axes[1])\n",
      "No artists with labels found to put in legend.  Note that artists whose label start with an underscore are ignored when legend() is called with no argument.\n"
     ]
    },
    {
     "data": {
      "image/png": "[encoded data removed]",
      "text/plain": [
       "<Figure size 3500x1600 with 2 Axes>"
      ]
     },
     "metadata": {},
     "output_type": "display_data"
    }
   ],
   "source": [
    "# Set up subplots to display plots side by side\n",
    "fig, axes = plt.subplots(1, 2, figsize=(35, 16))\n",
    "\n",
    "# Countplot for males\n",
    "sns.countplot(x='height', hue='cardio', data=male_data, palette='Blues', ax=axes[0])\n",
    "axes[0].set_title('Relationship between Height and Target for Males', fontsize=23)\n",
    "axes[0].set_xlabel('Height', fontsize=23)\n",
    "axes[0].set_ylabel('Count', fontsize=23)\n",
    "axes[0].legend(title='Target')\n",
    "axes[0].tick_params(axis='x', labelrotation=90)\n",
    "\n",
    "# Countplot for females\n",
    "sns.countplot(x='height', hue='cardio', data=female_data, palette='Blues', ax=axes[1])\n",
    "axes[1].set_title('Relationship between Height and Target for Females', fontsize=23)\n",
    "axes[1].set_xlabel('Height', fontsize=23)\n",
    "axes[1].set_ylabel('Count', fontsize=23)\n",
    "axes[1].legend(title='Target', loc='upper right')\n",
    "axes[1].tick_params(axis='x', labelrotation=90)\n",
    "\n",
    "plt.tight_layout()\n",
    "plt.show()"
   ]
  },
  {
   "cell_type": "code",
   "execution_count": 30,
   "id": "3cfc91cf",
   "metadata": {},
   "outputs": [
    {
     "data": {
      "text/html": [
       "<div>\n",
       "<style scoped>\n",
       "    .dataframe tbody tr th:only-of-type {\n",
       "        vertical-align: middle;\n",
       "    }\n",
       "\n",
       "    .dataframe tbody tr th {\n",
       "        vertical-align: top;\n",
       "    }\n",
       "\n",
       "    .dataframe thead th {\n",
       "        text-align: right;\n",
       "    }\n",
       "</style>\n",
       "<table border=\"1\" class=\"dataframe\">\n",
       "  <thead>\n",
       "    <tr style=\"text-align: right;\">\n",
       "      <th>cardio</th>\n",
       "    </tr>\n",
       "    <tr>\n",
       "      <th>active</th>\n",
       "    </tr>\n",
       "  </thead>\n",
       "  <tbody>\n",
       "  </tbody>\n",
       "</table>\n",
       "</div>"
      ],
      "text/plain": [
       "Empty DataFrame\n",
       "Columns: []\n",
       "Index: []"
      ]
     },
     "execution_count": 30,
     "metadata": {},
     "output_type": "execute_result"
    }
   ],
   "source": [
    "pd.crosstab(df.active,df.cardio)"
   ]
  },
  {
   "cell_type": "markdown",
   "id": "d7799e39",
   "metadata": {},
   "source": [
    "# TRAINING MODELS "
   ]
  },
  {
   "cell_type": "markdown",
   "id": "8c3ba1b5",
   "metadata": {},
   "source": [
    "## Logistic Regression model"
   ]
  },
  {
   "cell_type": "code",
   "execution_count": 32,
   "id": "898301a3",
   "metadata": {},
   "outputs": [
    {
     "name": "stdout",
     "output_type": "stream",
     "text": [
      "Fitting 5 folds for each of 10 candidates, totalling 50 fits\n"
     ]
    },
    {
     "name": "stderr",
     "output_type": "stream",
     "text": [
      "/home/ahmedkhalid/anaconda3/lib/python3.12/site-packages/sklearn/linear_model/_sag.py:350: ConvergenceWarning: The max_iter was reached which means the coef_ did not converge\n",
      "  warnings.warn(\n",
      "/home/ahmedkhalid/anaconda3/lib/python3.12/site-packages/sklearn/linear_model/_sag.py:350: ConvergenceWarning: The max_iter was reached which means the coef_ did not converge\n",
      "  warnings.warn(\n",
      "/home/ahmedkhalid/anaconda3/lib/python3.12/site-packages/sklearn/linear_model/_sag.py:350: ConvergenceWarning: The max_iter was reached which means the coef_ did not converge\n",
      "  warnings.warn(\n",
      "/home/ahmedkhalid/anaconda3/lib/python3.12/site-packages/sklearn/linear_model/_sag.py:350: ConvergenceWarning: The max_iter was reached which means the coef_ did not converge\n",
      "  warnings.warn(\n",
      "/home/ahmedkhalid/anaconda3/lib/python3.12/site-packages/sklearn/linear_model/_sag.py:350: ConvergenceWarning: The max_iter was reached which means the coef_ did not converge\n",
      "  warnings.warn(\n"
     ]
    },
    {
     "name": "stdout",
     "output_type": "stream",
     "text": [
      "\n",
      "Logistic Regression Tuned Results\n",
      "Accuracy: 72.38%\n",
      "Training and Prediction Time: 57.41 seconds\n",
      "Confusion Matrix:\n",
      "[[5365 1623]\n",
      " [2244 4768]]\n",
      "Classification Report:\n",
      "              precision    recall  f1-score   support\n",
      "\n",
      "           0       0.71      0.77      0.74      6988\n",
      "           1       0.75      0.68      0.71      7012\n",
      "\n",
      "    accuracy                           0.72     14000\n",
      "   macro avg       0.73      0.72      0.72     14000\n",
      "weighted avg       0.73      0.72      0.72     14000\n",
      "\n"
     ]
    }
   ],
   "source": [
    "from sklearn.model_selection import RandomizedSearchCV, cross_val_score, StratifiedKFold\n",
    "from sklearn.naive_bayes import GaussianNB\n",
    "from sklearn.linear_model import LogisticRegression\n",
    "\n",
    "# Feature scaling\n",
    "scaler = StandardScaler()\n",
    "X_train_scaled = scaler.fit_transform(X_train)\n",
    "X_test_scaled = scaler.transform(X_test)\n",
    "\n",
    "# Define parameter grid for Logistic Regression tuning\n",
    "lr_params = {\n",
    "    'C': np.logspace(-4, 4, 20),\n",
    "    'penalty': ['l1', 'l2'],\n",
    "    'solver': ['liblinear', 'saga']\n",
    "}\n",
    "\n",
    "# Create the Logistic Regression model\n",
    "lr = LogisticRegression(random_state=42)\n",
    "\n",
    "# Create a RandomizedSearchCV instance for Logistic Regression\n",
    "lr_random = RandomizedSearchCV(lr, lr_params, n_iter=10, cv=5, random_state=42, n_jobs=-1, verbose=1)\n",
    "\n",
    "# Fit the model on scaled data and evaluate\n",
    "scores.append(evaluate_model(lr_random, X_train_scaled, Y_train, X_test_scaled, Y_test, \"Logistic Regression Tuned\"))\n",
    "algorithms.append(\"Logistic Regression Tuned\")\n",
    "\n"
   ]
  },
  {
   "cell_type": "markdown",
   "id": "689827c9",
   "metadata": {},
   "source": [
    "## Naive Bayes model"
   ]
  },
  {
   "cell_type": "code",
   "execution_count": 33,
   "id": "f4754d41",
   "metadata": {},
   "outputs": [
    {
     "name": "stdout",
     "output_type": "stream",
     "text": [
      "\n",
      "Naive Bayes Tuned Results\n",
      "Accuracy: 59.34%\n",
      "Training and Prediction Time: 0.01 seconds\n",
      "Confusion Matrix:\n",
      "[[6082  906]\n",
      " [4787 2225]]\n",
      "Classification Report:\n",
      "              precision    recall  f1-score   support\n",
      "\n",
      "           0       0.56      0.87      0.68      6988\n",
      "           1       0.71      0.32      0.44      7012\n",
      "\n",
      "    accuracy                           0.59     14000\n",
      "   macro avg       0.64      0.59      0.56     14000\n",
      "weighted avg       0.64      0.59      0.56     14000\n",
      "\n"
     ]
    }
   ],
   "source": [
    "\n",
    "# Create a Naive Bayes model with Laplace smoothing\n",
    "nb = GaussianNB(var_smoothing=1e-3)\n",
    "\n",
    "# Using StratifiedKFold for cross-validation\n",
    "skf = StratifiedKFold(n_splits=5)\n",
    "\n",
    "# Evaluate the Naive Bayes model with cross-validation\n",
    "cross_val_scores = cross_val_score(nb, X_train_scaled, Y_train, cv=skf, scoring='accuracy')\n",
    "average_accuracy = np.mean(cross_val_scores)\n",
    "\n",
    "# Append the average accuracy to scores\n",
    "nb_accuracy = evaluate_model(nb, X_train_scaled, Y_train, X_test_scaled, Y_test, \"Naive Bayes Tuned\")\n",
    "scores.append(nb_accuracy)\n",
    "algorithms.append(\"Naive Bayes Tuned\")"
   ]
  },
  {
   "cell_type": "markdown",
   "id": "bd289c49",
   "metadata": {},
   "source": [
    "## XGBoost model"
   ]
  },
  {
   "cell_type": "code",
   "execution_count": 34,
   "id": "fc960269",
   "metadata": {},
   "outputs": [
    {
     "name": "stdout",
     "output_type": "stream",
     "text": [
      "Fitting 3 folds for each of 10 candidates, totalling 30 fits\n",
      "[CV] END ....learning_rate=0.1, max_depth=3, n_estimators=50; total time=   4.9s\n",
      "[CV] END ....learning_rate=0.1, max_depth=3, n_estimators=50; total time=   4.9s\n",
      "[CV] END ...learning_rate=0.1, max_depth=5, n_estimators=100; total time=   4.9s\n",
      "[CV] END ...learning_rate=0.1, max_depth=5, n_estimators=100; total time=   4.9s\n",
      "[CV] END ...learning_rate=0.1, max_depth=5, n_estimators=100; total time=   5.0s\n",
      "[CV] END ....learning_rate=0.1, max_depth=3, n_estimators=50; total time=   0.2s\n",
      "[CV] END ....learning_rate=0.2, max_depth=5, n_estimators=50; total time=   0.3s\n",
      "[CV] END ...learning_rate=0.01, max_depth=3, n_estimators=50; total time=   0.3s[CV] END ....learning_rate=0.2, max_depth=5, n_estimators=50; total time=   0.3s\n",
      "\n",
      "[CV] END ....learning_rate=0.2, max_depth=5, n_estimators=50; total time=   0.3s\n",
      "[CV] END ...learning_rate=0.01, max_depth=3, n_estimators=50; total time=   0.2s\n",
      "[CV] END ...learning_rate=0.01, max_depth=3, n_estimators=50; total time=   0.2s\n",
      "[CV] END ...learning_rate=0.1, max_depth=3, n_estimators=200; total time=   0.6s\n",
      "[CV] END ...learning_rate=0.1, max_depth=3, n_estimators=200; total time=   0.6s\n",
      "[CV] END ...learning_rate=0.1, max_depth=3, n_estimators=200; total time=   0.8s\n",
      "[CV] END ...learning_rate=0.1, max_depth=7, n_estimators=100; total time=   0.7s\n",
      "[CV] END ...learning_rate=0.1, max_depth=7, n_estimators=100; total time=   0.7s\n",
      "[CV] END ..learning_rate=0.01, max_depth=7, n_estimators=200; total time=   6.3s\n",
      "[CV] END ..learning_rate=0.01, max_depth=7, n_estimators=200; total time=   6.3s\n",
      "[CV] END ..learning_rate=0.01, max_depth=7, n_estimators=200; total time=   6.3s\n",
      "[CV] END ....learning_rate=0.1, max_depth=5, n_estimators=50; total time=   0.3s\n",
      "[CV] END ....learning_rate=0.1, max_depth=5, n_estimators=50; total time=   0.3s\n",
      "[CV] END ...learning_rate=0.1, max_depth=7, n_estimators=100; total time=   0.7s\n",
      "[CV] END ....learning_rate=0.1, max_depth=5, n_estimators=50; total time=   0.4s\n",
      "[CV] END ....learning_rate=0.2, max_depth=7, n_estimators=50; total time=   0.5s\n",
      "[CV] END ....learning_rate=0.2, max_depth=7, n_estimators=50; total time=   0.3s\n",
      "[CV] END ....learning_rate=0.2, max_depth=7, n_estimators=50; total time=   0.3s\n",
      "[CV] END ...learning_rate=0.1, max_depth=7, n_estimators=200; total time=   1.1s\n",
      "[CV] END ...learning_rate=0.1, max_depth=7, n_estimators=200; total time=   1.0s\n",
      "[CV] END ...learning_rate=0.1, max_depth=7, n_estimators=200; total time=   1.0s\n",
      "\n",
      "XGBoost Tuned Results\n",
      "Accuracy: 73.83%\n",
      "Training and Prediction Time: 7.96 seconds\n",
      "Confusion Matrix:\n",
      "[[5422 1566]\n",
      " [2098 4914]]\n",
      "Classification Report:\n",
      "              precision    recall  f1-score   support\n",
      "\n",
      "           0       0.72      0.78      0.75      6988\n",
      "           1       0.76      0.70      0.73      7012\n",
      "\n",
      "    accuracy                           0.74     14000\n",
      "   macro avg       0.74      0.74      0.74     14000\n",
      "weighted avg       0.74      0.74      0.74     14000\n",
      "\n"
     ]
    }
   ],
   "source": [
    "# XGBoost with hyperparameter tuning\n",
    "xgb_params = {\n",
    "    'n_estimators': [50, 100, 200],\n",
    "    'max_depth': [3, 5, 7],\n",
    "    'learning_rate': [0.01, 0.1, 0.2]\n",
    "}\n",
    "xgb_model = xgb.XGBClassifier(objective=\"binary:logistic\", random_state=42)\n",
    "xgb_random = RandomizedSearchCV(xgb_model, xgb_params, n_iter=10, cv=3, random_state=42, n_jobs=-1, verbose=2)\n",
    "\n",
    "scores.append(evaluate_model(xgb_random, X_train, Y_train, X_test, Y_test, \"XGBoost Tuned\"))\n",
    "algorithms.append(\"XGBoost Tuned\")\n"
   ]
  },
  {
   "cell_type": "markdown",
   "id": "a9f85f2b",
   "metadata": {},
   "source": [
    "## SVM model"
   ]
  },
  {
   "cell_type": "code",
   "execution_count": 35,
   "id": "a105445a",
   "metadata": {},
   "outputs": [
    {
     "name": "stdout",
     "output_type": "stream",
     "text": [
      "Fitting 2 folds for each of 5 candidates, totalling 10 fits\n",
      "[CV] END .....................C=1.0, gamma=0.001, kernel=rbf; total time= 2.0min\n",
      "[CV] END ...................C=100.0, gamma=0.001, kernel=rbf; total time= 2.0min\n",
      "[CV] END ...................C=100.0, gamma=0.001, kernel=rbf; total time= 2.4min\n",
      "[CV] END .....................C=1.0, gamma=0.001, kernel=rbf; total time= 2.6min\n",
      "[CV] END ....................C=0.01, gamma=0.001, kernel=rbf; total time= 2.9min\n",
      "[CV] END ....C=100.0, gamma=0.046415888336127795, kernel=rbf; total time= 3.0min\n",
      "[CV] END ....................C=0.01, gamma=0.001, kernel=rbf; total time= 3.0min\n",
      "[CV] END ....C=100.0, gamma=0.046415888336127795, kernel=rbf; total time= 3.2min\n",
      "[CV] END ..C=1.0, gamma=0.046415888336127795, kernel=sigmoid; total time= 1.5min\n",
      "[CV] END ..C=1.0, gamma=0.046415888336127795, kernel=sigmoid; total time= 1.5min\n",
      "\n",
      "SVM Tuned Results\n",
      "Accuracy: 73.26%\n",
      "Training and Prediction Time: 323.38 seconds\n",
      "Confusion Matrix:\n",
      "[[5645 1343]\n",
      " [2400 4612]]\n",
      "Classification Report:\n",
      "              precision    recall  f1-score   support\n",
      "\n",
      "           0       0.70      0.81      0.75      6988\n",
      "           1       0.77      0.66      0.71      7012\n",
      "\n",
      "    accuracy                           0.73     14000\n",
      "   macro avg       0.74      0.73      0.73     14000\n",
      "weighted avg       0.74      0.73      0.73     14000\n",
      "\n"
     ]
    }
   ],
   "source": [
    "\n",
    "# Adjusted hyperparameter space\n",
    "svm_params = {\n",
    "    'C': np.logspace(-2, 2, 3),  # Reduced to 3 values\n",
    "    'gamma': np.logspace(-3, 2, 4),  # Reduced to 4 values\n",
    "    'kernel': ['rbf', 'sigmoid']  # Using 2 kernel types\n",
    "}\n",
    "\n",
    "sv = svm.SVC()\n",
    "sv_random = RandomizedSearchCV(sv, svm_params, n_iter=5, cv=2, random_state=42, n_jobs=-1, verbose=2)\n",
    "\n",
    "# Assuming evaluate_model is a defined function and X_train_scaled, Y_train, X_test_scaled, Y_test, scores, algorithms are predefined\n",
    "scores.append(evaluate_model(sv_random, X_train_scaled, Y_train, X_test_scaled, Y_test, \"SVM Tuned\"))\n",
    "algorithms.append(\"SVM Tuned\")\n"
   ]
  },
  {
   "cell_type": "markdown",
   "id": "343b5264",
   "metadata": {},
   "source": [
    "## K-Nearest Neighbors model"
   ]
  },
  {
   "cell_type": "code",
   "execution_count": 36,
   "id": "d9062043",
   "metadata": {},
   "outputs": [
    {
     "name": "stdout",
     "output_type": "stream",
     "text": [
      "Fitting 3 folds for each of 10 candidates, totalling 30 fits\n",
      "[CV] END ......................................n_neighbors=1; total time=  15.9s\n",
      "[CV] END ......................................n_neighbors=1; total time=  16.7s\n",
      "[CV] END ......................................n_neighbors=1; total time=  16.7s\n",
      "[CV] END ......................................n_neighbors=2; total time=  18.0s\n",
      "[CV] END ......................................n_neighbors=2; total time=  19.5s\n",
      "[CV] END ......................................n_neighbors=2; total time=  19.6s\n",
      "[CV] END ......................................n_neighbors=3; total time=  21.7s\n",
      "[CV] END ......................................n_neighbors=3; total time=  21.8s\n",
      "[CV] END ......................................n_neighbors=3; total time=  20.7s\n",
      "[CV] END ......................................n_neighbors=4; total time=  20.9s\n",
      "[CV] END ......................................n_neighbors=4; total time=  23.9s\n",
      "[CV] END ......................................n_neighbors=4; total time=  24.3s\n",
      "[CV] END ......................................n_neighbors=5; total time=  25.7s\n",
      "[CV] END ......................................n_neighbors=5; total time=  25.8s\n",
      "[CV] END ......................................n_neighbors=5; total time=  24.6s\n",
      "[CV] END ......................................n_neighbors=6; total time=  27.4s\n",
      "[CV] END ......................................n_neighbors=6; total time=  24.7s\n",
      "[CV] END ......................................n_neighbors=6; total time=  24.8s\n",
      "[CV] END ......................................n_neighbors=7; total time=  28.0s\n",
      "[CV] END ......................................n_neighbors=7; total time=  27.9s\n",
      "[CV] END ......................................n_neighbors=8; total time=  27.1s\n",
      "[CV] END ......................................n_neighbors=8; total time=  26.4s\n",
      "[CV] END ......................................n_neighbors=7; total time=  28.9s\n",
      "[CV] END ......................................n_neighbors=8; total time=  28.4s\n",
      "[CV] END ......................................n_neighbors=9; total time=  24.5s\n",
      "[CV] END ......................................n_neighbors=9; total time=  19.5s\n",
      "[CV] END ......................................n_neighbors=9; total time=  26.0s\n",
      "[CV] END .....................................n_neighbors=10; total time=  17.8s\n",
      "[CV] END .....................................n_neighbors=10; total time=  21.3s\n",
      "[CV] END .....................................n_neighbors=10; total time=  18.6s\n",
      "\n",
      "KNN Tuned Results\n",
      "Accuracy: 63.76%\n",
      "Training and Prediction Time: 100.62 seconds\n",
      "Confusion Matrix:\n",
      "[[4559 2429]\n",
      " [2644 4368]]\n",
      "Classification Report:\n",
      "              precision    recall  f1-score   support\n",
      "\n",
      "           0       0.63      0.65      0.64      6988\n",
      "           1       0.64      0.62      0.63      7012\n",
      "\n",
      "    accuracy                           0.64     14000\n",
      "   macro avg       0.64      0.64      0.64     14000\n",
      "weighted avg       0.64      0.64      0.64     14000\n",
      "\n"
     ]
    }
   ],
   "source": [
    "# K-Nearest Neighbors with tuning\n",
    "knn_params = {'n_neighbors': range(1, 11)}\n",
    "knn = KNeighborsClassifier()\n",
    "knn_random = RandomizedSearchCV(knn, knn_params, n_iter=10, cv=3, random_state=42, n_jobs=-1, verbose=2)\n",
    "scores.append(evaluate_model(knn_random, X_train_scaled, Y_train, X_test_scaled, Y_test, \"KNN Tuned\"))\n",
    "algorithms.append(\"KNN Tuned\")\n",
    "\n"
   ]
  },
  {
   "cell_type": "markdown",
   "id": "8920cf4f",
   "metadata": {},
   "source": [
    "## Decision Tree model"
   ]
  },
  {
   "cell_type": "code",
   "execution_count": 37,
   "id": "c99d1e8c",
   "metadata": {},
   "outputs": [
    {
     "name": "stdout",
     "output_type": "stream",
     "text": [
      "Fitting 3 folds for each of 10 candidates, totalling 30 fits\n",
      "[CV] END ..................max_depth=30, min_samples_split=2; total time=   0.5s\n",
      "[CV] END ................max_depth=None, min_samples_split=2; total time=   0.5s\n",
      "[CV] END ..................max_depth=30, min_samples_split=2; total time=   0.5s\n",
      "[CV] END ..................max_depth=30, min_samples_split=5; total time=   0.5s\n",
      "[CV] END ..................max_depth=30, min_samples_split=2; total time=   0.6s\n",
      "[CV] END ..................max_depth=30, min_samples_split=5; total time=   0.6s\n",
      "[CV] END ..................max_depth=30, min_samples_split=5; total time=   0.8s\n",
      "[CV] END ................max_depth=None, min_samples_split=2; total time=   0.8s\n",
      "[CV] END .................max_depth=10, min_samples_split=10; total time=   0.3s\n",
      "[CV] END .................max_depth=10, min_samples_split=10; total time=   0.2s\n",
      "[CV] END .................max_depth=20, min_samples_split=10; total time=   0.4s\n",
      "[CV] END .................max_depth=20, min_samples_split=10; total time=   0.4s\n",
      "[CV] END .................max_depth=20, min_samples_split=10; total time=   0.4s\n",
      "[CV] END ................max_depth=None, min_samples_split=2; total time=   0.5s\n",
      "[CV] END .................max_depth=10, min_samples_split=10; total time=   0.3s\n",
      "[CV] END ...............max_depth=None, min_samples_split=10; total time=   0.4s\n",
      "[CV] END ................max_depth=None, min_samples_split=5; total time=   0.5s\n",
      "[CV] END ...............max_depth=None, min_samples_split=10; total time=   0.6s\n",
      "[CV] END ................max_depth=None, min_samples_split=5; total time=   0.5s\n",
      "[CV] END ...............max_depth=None, min_samples_split=10; total time=   0.7s\n",
      "[CV] END ................max_depth=None, min_samples_split=5; total time=   0.6s\n",
      "[CV] END ..................max_depth=10, min_samples_split=5; total time=   0.2s\n",
      "[CV] END .................max_depth=30, min_samples_split=10; total time=   0.6s\n",
      "[CV] END .................max_depth=30, min_samples_split=10; total time=   0.4s\n",
      "[CV] END .................max_depth=30, min_samples_split=10; total time=   0.7s\n",
      "[CV] END ..................max_depth=10, min_samples_split=5; total time=   0.3s\n",
      "[CV] END ..................max_depth=10, min_samples_split=5; total time=   0.3s\n",
      "[CV] END ..................max_depth=20, min_samples_split=5; total time=   0.3s\n",
      "[CV] END ..................max_depth=20, min_samples_split=5; total time=   0.3s\n",
      "[CV] END ..................max_depth=20, min_samples_split=5; total time=   0.3s\n",
      "\n",
      "Decision Tree Tuned Results\n",
      "Accuracy: 72.93%\n",
      "Training and Prediction Time: 3.41 seconds\n",
      "Confusion Matrix:\n",
      "[[5251 1737]\n",
      " [2053 4959]]\n",
      "Classification Report:\n",
      "              precision    recall  f1-score   support\n",
      "\n",
      "           0       0.72      0.75      0.73      6988\n",
      "           1       0.74      0.71      0.72      7012\n",
      "\n",
      "    accuracy                           0.73     14000\n",
      "   macro avg       0.73      0.73      0.73     14000\n",
      "weighted avg       0.73      0.73      0.73     14000\n",
      "\n"
     ]
    }
   ],
   "source": [
    "# Decision Tree with basic hyperparameter tuning\n",
    "dt_params = {\n",
    "    'max_depth': [None, 10, 20, 30],\n",
    "    'min_samples_split': [2, 5, 10]\n",
    "}\n",
    "dt = DecisionTreeClassifier(random_state=42)\n",
    "dt_random = RandomizedSearchCV(dt, dt_params, n_iter=10, cv=3, random_state=42, n_jobs=-1, verbose=2)\n",
    "scores.append(evaluate_model(dt_random, X_train, Y_train, X_test, Y_test, \"Decision Tree Tuned\"))\n",
    "algorithms.append(\"Decision Tree Tuned\")\n",
    "\n"
   ]
  },
  {
   "cell_type": "markdown",
   "id": "35c83a1a",
   "metadata": {},
   "source": [
    "## Random Forest"
   ]
  },
  {
   "cell_type": "code",
   "execution_count": 38,
   "id": "3254a1bb",
   "metadata": {},
   "outputs": [
    {
     "name": "stdout",
     "output_type": "stream",
     "text": [
      "Fitting 3 folds for each of 20 candidates, totalling 60 fits\n",
      "[CV] END max_depth=None, min_samples_split=5, n_estimators=50; total time=   4.5s\n",
      "[CV] END max_depth=None, min_samples_split=5, n_estimators=50; total time=   4.6s\n",
      "[CV] END max_depth=None, min_samples_split=5, n_estimators=50; total time=   4.6s\n",
      "[CV] END max_depth=30, min_samples_split=2, n_estimators=200; total time=  20.5s\n",
      "[CV] END max_depth=30, min_samples_split=2, n_estimators=200; total time=  39.0s\n",
      "[CV] END max_depth=30, min_samples_split=2, n_estimators=300; total time=  39.7s\n",
      "[CV] END max_depth=None, min_samples_split=5, n_estimators=300; total time=  36.1s\n",
      "[CV] END max_depth=None, min_samples_split=5, n_estimators=300; total time=  22.2s\n",
      "[CV] END max_depth=30, min_samples_split=2, n_estimators=300; total time=  43.6s\n",
      "[CV] END .max_depth=30, min_samples_split=2, n_estimators=50; total time=   4.6s\n",
      "[CV] END max_depth=30, min_samples_split=2, n_estimators=200; total time=  39.2s\n",
      "[CV] END max_depth=None, min_samples_split=5, n_estimators=300; total time=  39.6s\n",
      "[CV] END .max_depth=30, min_samples_split=2, n_estimators=50; total time=   4.5s\n",
      "[CV] END .max_depth=30, min_samples_split=2, n_estimators=50; total time=   4.0s\n",
      "[CV] END .max_depth=20, min_samples_split=2, n_estimators=50; total time=   4.1s\n",
      "[CV] END .max_depth=20, min_samples_split=2, n_estimators=50; total time=   3.5s\n",
      "[CV] END max_depth=30, min_samples_split=2, n_estimators=300; total time=  52.0s\n",
      "[CV] END max_depth=None, min_samples_split=2, n_estimators=100; total time=   8.4s\n",
      "[CV] END max_depth=None, min_samples_split=2, n_estimators=100; total time=   8.8s\n",
      "[CV] END max_depth=None, min_samples_split=2, n_estimators=100; total time=   8.7s\n",
      "[CV] END .max_depth=20, min_samples_split=2, n_estimators=50; total time=   4.1s\n",
      "[CV] END .max_depth=10, min_samples_split=5, n_estimators=50; total time=   1.7s\n",
      "[CV] END .max_depth=10, min_samples_split=5, n_estimators=50; total time=   2.3s\n",
      "[CV] END .max_depth=10, min_samples_split=5, n_estimators=50; total time=   1.9s\n",
      "[CV] END max_depth=30, min_samples_split=2, n_estimators=100; total time=   7.5s\n",
      "[CV] END max_depth=30, min_samples_split=2, n_estimators=100; total time=   9.3s\n",
      "[CV] END max_depth=10, min_samples_split=10, n_estimators=50; total time=   2.1s\n",
      "[CV] END max_depth=20, min_samples_split=5, n_estimators=300; total time=  18.8s\n",
      "[CV] END max_depth=10, min_samples_split=10, n_estimators=50; total time=   1.8s\n",
      "[CV] END max_depth=30, min_samples_split=2, n_estimators=100; total time=   6.9s\n",
      "[CV] END max_depth=10, min_samples_split=10, n_estimators=50; total time=   1.7s\n",
      "[CV] END max_depth=20, min_samples_split=5, n_estimators=300; total time=  20.4s\n",
      "[CV] END max_depth=20, min_samples_split=5, n_estimators=300; total time=  22.6s\n",
      "[CV] END max_depth=10, min_samples_split=2, n_estimators=300; total time=  10.3s\n",
      "[CV] END max_depth=10, min_samples_split=5, n_estimators=200; total time=   7.5s\n",
      "[CV] END max_depth=10, min_samples_split=2, n_estimators=300; total time=  10.1s\n",
      "[CV] END max_depth=10, min_samples_split=2, n_estimators=300; total time=  12.2s\n",
      "[CV] END max_depth=10, min_samples_split=5, n_estimators=200; total time=   9.0s\n",
      "[CV] END max_depth=10, min_samples_split=5, n_estimators=200; total time=   8.2s\n",
      "[CV] END max_depth=30, min_samples_split=10, n_estimators=100; total time=   7.6s\n",
      "[CV] END max_depth=30, min_samples_split=10, n_estimators=100; total time=   8.2s\n",
      "[CV] END max_depth=30, min_samples_split=10, n_estimators=100; total time=   6.4s\n",
      "[CV] END max_depth=20, min_samples_split=2, n_estimators=100; total time=   5.4s\n",
      "[CV] END max_depth=20, min_samples_split=2, n_estimators=100; total time=   5.2s\n",
      "[CV] END max_depth=20, min_samples_split=5, n_estimators=100; total time=   4.5s\n",
      "[CV] END max_depth=20, min_samples_split=2, n_estimators=100; total time=   4.6s\n",
      "[CV] END max_depth=20, min_samples_split=5, n_estimators=100; total time=   3.9s\n",
      "[CV] END max_depth=None, min_samples_split=2, n_estimators=300; total time=  38.6s\n",
      "[CV] END max_depth=20, min_samples_split=5, n_estimators=100; total time=   5.6s\n",
      "[CV] END max_depth=None, min_samples_split=10, n_estimators=100; total time=   5.6s\n",
      "[CV] END max_depth=None, min_samples_split=2, n_estimators=300; total time=  44.7s\n",
      "[CV] END max_depth=None, min_samples_split=10, n_estimators=100; total time=   5.9s\n",
      "[CV] END max_depth=None, min_samples_split=10, n_estimators=100; total time=   5.4s\n",
      "[CV] END max_depth=None, min_samples_split=2, n_estimators=300; total time=  48.5s\n",
      "[CV] END max_depth=20, min_samples_split=2, n_estimators=300; total time=  13.4s\n"
     ]
    },
    {
     "name": "stderr",
     "output_type": "stream",
     "text": [
      "/home/ahmedkhalid/anaconda3/lib/python3.12/site-packages/joblib/externals/loky/process_executor.py:752: UserWarning: A worker stopped while some jobs were given to the executor. This can be caused by a too short worker timeout or by a memory leak.\n",
      "  warnings.warn(\n"
     ]
    },
    {
     "name": "stdout",
     "output_type": "stream",
     "text": [
      "[CV] END max_depth=10, min_samples_split=10, n_estimators=100; total time=   2.6s\n",
      "[CV] END max_depth=10, min_samples_split=10, n_estimators=100; total time=   2.7s\n",
      "[CV] END max_depth=10, min_samples_split=10, n_estimators=100; total time=   3.3s\n",
      "[CV] END max_depth=20, min_samples_split=2, n_estimators=300; total time=  12.7s\n",
      "[CV] END max_depth=20, min_samples_split=2, n_estimators=300; total time=  13.5s\n",
      "\n",
      "Random Forest Tuned Results\n",
      "Accuracy: 73.85%\n",
      "Training and Prediction Time: 316.53 seconds\n",
      "Confusion Matrix:\n",
      "[[5495 1493]\n",
      " [2168 4844]]\n",
      "Classification Report:\n",
      "              precision    recall  f1-score   support\n",
      "\n",
      "           0       0.72      0.79      0.75      6988\n",
      "           1       0.76      0.69      0.73      7012\n",
      "\n",
      "    accuracy                           0.74     14000\n",
      "   macro avg       0.74      0.74      0.74     14000\n",
      "weighted avg       0.74      0.74      0.74     14000\n",
      "\n"
     ]
    }
   ],
   "source": [
    "# Random Forest with extended hyperparameter tuning\n",
    "rf_params = {\n",
    "    'n_estimators': [50, 100, 200, 300],\n",
    "    'max_depth': [10, 20, 30, None],\n",
    "    'min_samples_split': [2, 5, 10]\n",
    "}\n",
    "rf = RandomForestClassifier(random_state=42)\n",
    "rf_random = RandomizedSearchCV(rf, rf_params, n_iter=20, cv=3, random_state=42, n_jobs=-1, verbose=2)\n",
    "scores.append(evaluate_model(rf_random, X_train, Y_train, X_test, Y_test, \"Random Forest Tuned\"))\n",
    "algorithms.append(\"Random Forest Tuned\")\n"
   ]
  },
  {
   "cell_type": "markdown",
   "id": "522acf33",
   "metadata": {},
   "source": [
    "## Ensemble learning methods (BaggingClassifier, AdaBoostClassifier, GradientBoostingClassifier)"
   ]
  },
  {
   "cell_type": "code",
   "execution_count": 45,
   "id": "2f874069",
   "metadata": {},
   "outputs": [
    {
     "name": "stdout",
     "output_type": "stream",
     "text": [
      "Fitting 3 folds for each of 9 candidates, totalling 27 fits\n"
     ]
    },
    {
     "name": "stderr",
     "output_type": "stream",
     "text": [
      "/home/ahmedkhalid/anaconda3/lib/python3.12/site-packages/sklearn/model_selection/_search.py:318: UserWarning: The total space of parameters 9 is smaller than n_iter=10. Running 9 iterations. For exhaustive searches, use GridSearchCV.\n",
      "  warnings.warn(\n"
     ]
    },
    {
     "name": "stdout",
     "output_type": "stream",
     "text": [
      "[CV] END ............estimator__max_depth=5, n_estimators=10; total time=   0.8s\n",
      "[CV] END ............estimator__max_depth=5, n_estimators=10; total time=   0.9s\n",
      "[CV] END ............estimator__max_depth=5, n_estimators=10; total time=   0.9s\n",
      "[CV] END ............estimator__max_depth=5, n_estimators=20; total time=   1.6s\n",
      "[CV] END ............estimator__max_depth=5, n_estimators=20; total time=   1.6s\n",
      "[CV] END ............estimator__max_depth=5, n_estimators=20; total time=   1.9s\n",
      "[CV] END ...........estimator__max_depth=10, n_estimators=10; total time=   1.5s\n",
      "[CV] END ............estimator__max_depth=5, n_estimators=30; total time=   2.5s\n",
      "[CV] END ...........estimator__max_depth=10, n_estimators=10; total time=   1.6s\n",
      "[CV] END ............estimator__max_depth=5, n_estimators=30; total time=   2.6s\n",
      "[CV] END ...........estimator__max_depth=10, n_estimators=10; total time=   1.5s\n",
      "[CV] END ............estimator__max_depth=5, n_estimators=30; total time=   2.8s\n",
      "[CV] END ...........estimator__max_depth=10, n_estimators=20; total time=   3.6s\n",
      "[CV] END ...........estimator__max_depth=10, n_estimators=20; total time=   3.4s\n",
      "[CV] END ...........estimator__max_depth=10, n_estimators=20; total time=   3.4s\n",
      "[CV] END .........estimator__max_depth=None, n_estimators=10; total time=   2.9s\n",
      "[CV] END .........estimator__max_depth=None, n_estimators=10; total time=   3.1s\n",
      "[CV] END ...........estimator__max_depth=10, n_estimators=30; total time=   4.9s\n",
      "[CV] END ...........estimator__max_depth=10, n_estimators=30; total time=   5.3s\n",
      "[CV] END ...........estimator__max_depth=10, n_estimators=30; total time=   5.6s\n",
      "[CV] END .........estimator__max_depth=None, n_estimators=10; total time=   3.5s\n",
      "[CV] END .........estimator__max_depth=None, n_estimators=20; total time=   5.9s\n",
      "[CV] END .........estimator__max_depth=None, n_estimators=20; total time=   5.8s\n",
      "[CV] END .........estimator__max_depth=None, n_estimators=20; total time=   5.8s\n",
      "[CV] END .........estimator__max_depth=None, n_estimators=30; total time=   7.8s\n",
      "[CV] END .........estimator__max_depth=None, n_estimators=30; total time=   7.5s\n",
      "[CV] END .........estimator__max_depth=None, n_estimators=30; total time=   7.4s\n",
      "\n",
      "Bagging with Decision Trees Tuned Results\n",
      "Accuracy: 73.57%\n",
      "Training and Prediction Time: 19.33 seconds\n",
      "Confusion Matrix:\n",
      "[[5436 1552]\n",
      " [2148 4864]]\n",
      "Classification Report:\n",
      "              precision    recall  f1-score   support\n",
      "\n",
      "           0       0.72      0.78      0.75      6988\n",
      "           1       0.76      0.69      0.72      7012\n",
      "\n",
      "    accuracy                           0.74     14000\n",
      "   macro avg       0.74      0.74      0.74     14000\n",
      "weighted avg       0.74      0.74      0.74     14000\n",
      "\n",
      "Fitting 3 folds for each of 10 candidates, totalling 30 fits\n"
     ]
    },
    {
     "name": "stderr",
     "output_type": "stream",
     "text": [
      "/home/ahmedkhalid/anaconda3/lib/python3.12/site-packages/sklearn/ensemble/_weight_boosting.py:519: FutureWarning: The SAMME.R algorithm (the default) is deprecated and will be removed in 1.6. Use the SAMME algorithm to circumvent this warning.\n",
      "  warnings.warn(\n",
      "/home/ahmedkhalid/anaconda3/lib/python3.12/site-packages/sklearn/ensemble/_weight_boosting.py:519: FutureWarning: The SAMME.R algorithm (the default) is deprecated and will be removed in 1.6. Use the SAMME algorithm to circumvent this warning.\n",
      "  warnings.warn(\n",
      "/home/ahmedkhalid/anaconda3/lib/python3.12/site-packages/sklearn/ensemble/_weight_boosting.py:519: FutureWarning: The SAMME.R algorithm (the default) is deprecated and will be removed in 1.6. Use the SAMME algorithm to circumvent this warning.\n",
      "  warnings.warn(\n",
      "/home/ahmedkhalid/anaconda3/lib/python3.12/site-packages/sklearn/ensemble/_weight_boosting.py:519: FutureWarning: The SAMME.R algorithm (the default) is deprecated and will be removed in 1.6. Use the SAMME algorithm to circumvent this warning.\n",
      "  warnings.warn(\n",
      "/home/ahmedkhalid/anaconda3/lib/python3.12/site-packages/sklearn/ensemble/_weight_boosting.py:519: FutureWarning: The SAMME.R algorithm (the default) is deprecated and will be removed in 1.6. Use the SAMME algorithm to circumvent this warning.\n",
      "  warnings.warn(\n",
      "/home/ahmedkhalid/anaconda3/lib/python3.12/site-packages/sklearn/ensemble/_weight_boosting.py:519: FutureWarning: The SAMME.R algorithm (the default) is deprecated and will be removed in 1.6. Use the SAMME algorithm to circumvent this warning.\n",
      "  warnings.warn(\n",
      "/home/ahmedkhalid/anaconda3/lib/python3.12/site-packages/sklearn/ensemble/_weight_boosting.py:519: FutureWarning: The SAMME.R algorithm (the default) is deprecated and will be removed in 1.6. Use the SAMME algorithm to circumvent this warning.\n",
      "  warnings.warn(\n",
      "/home/ahmedkhalid/anaconda3/lib/python3.12/site-packages/sklearn/ensemble/_weight_boosting.py:519: FutureWarning: The SAMME.R algorithm (the default) is deprecated and will be removed in 1.6. Use the SAMME algorithm to circumvent this warning.\n",
      "  warnings.warn(\n"
     ]
    },
    {
     "name": "stdout",
     "output_type": "stream",
     "text": [
      "[CV] END estimator__max_depth=5, learning_rate=0.1, n_estimators=50; total time=   7.2s\n"
     ]
    },
    {
     "name": "stderr",
     "output_type": "stream",
     "text": [
      "/home/ahmedkhalid/anaconda3/lib/python3.12/site-packages/sklearn/ensemble/_weight_boosting.py:519: FutureWarning: The SAMME.R algorithm (the default) is deprecated and will be removed in 1.6. Use the SAMME algorithm to circumvent this warning.\n",
      "  warnings.warn(\n"
     ]
    },
    {
     "name": "stdout",
     "output_type": "stream",
     "text": [
      "[CV] END estimator__max_depth=5, learning_rate=0.1, n_estimators=50; total time=   7.9s\n"
     ]
    },
    {
     "name": "stderr",
     "output_type": "stream",
     "text": [
      "/home/ahmedkhalid/anaconda3/lib/python3.12/site-packages/sklearn/ensemble/_weight_boosting.py:519: FutureWarning: The SAMME.R algorithm (the default) is deprecated and will be removed in 1.6. Use the SAMME algorithm to circumvent this warning.\n",
      "  warnings.warn(\n"
     ]
    },
    {
     "name": "stdout",
     "output_type": "stream",
     "text": [
      "[CV] END estimator__max_depth=5, learning_rate=0.1, n_estimators=50; total time=   8.3s\n"
     ]
    },
    {
     "name": "stderr",
     "output_type": "stream",
     "text": [
      "/home/ahmedkhalid/anaconda3/lib/python3.12/site-packages/sklearn/ensemble/_weight_boosting.py:519: FutureWarning: The SAMME.R algorithm (the default) is deprecated and will be removed in 1.6. Use the SAMME algorithm to circumvent this warning.\n",
      "  warnings.warn(\n"
     ]
    },
    {
     "name": "stdout",
     "output_type": "stream",
     "text": [
      "[CV] END estimator__max_depth=3, learning_rate=0.2, n_estimators=100; total time=  10.0s\n"
     ]
    },
    {
     "name": "stderr",
     "output_type": "stream",
     "text": [
      "/home/ahmedkhalid/anaconda3/lib/python3.12/site-packages/sklearn/ensemble/_weight_boosting.py:519: FutureWarning: The SAMME.R algorithm (the default) is deprecated and will be removed in 1.6. Use the SAMME algorithm to circumvent this warning.\n",
      "  warnings.warn(\n"
     ]
    },
    {
     "name": "stdout",
     "output_type": "stream",
     "text": [
      "[CV] END estimator__max_depth=3, learning_rate=0.2, n_estimators=100; total time=  10.7s\n"
     ]
    },
    {
     "name": "stderr",
     "output_type": "stream",
     "text": [
      "/home/ahmedkhalid/anaconda3/lib/python3.12/site-packages/sklearn/ensemble/_weight_boosting.py:519: FutureWarning: The SAMME.R algorithm (the default) is deprecated and will be removed in 1.6. Use the SAMME algorithm to circumvent this warning.\n",
      "  warnings.warn(\n"
     ]
    },
    {
     "name": "stdout",
     "output_type": "stream",
     "text": [
      "[CV] END estimator__max_depth=3, learning_rate=0.2, n_estimators=100; total time=  11.4s\n"
     ]
    },
    {
     "name": "stderr",
     "output_type": "stream",
     "text": [
      "/home/ahmedkhalid/anaconda3/lib/python3.12/site-packages/sklearn/ensemble/_weight_boosting.py:519: FutureWarning: The SAMME.R algorithm (the default) is deprecated and will be removed in 1.6. Use the SAMME algorithm to circumvent this warning.\n",
      "  warnings.warn(\n"
     ]
    },
    {
     "name": "stdout",
     "output_type": "stream",
     "text": [
      "[CV] END estimator__max_depth=3, learning_rate=0.2, n_estimators=200; total time=  21.3s\n"
     ]
    },
    {
     "name": "stderr",
     "output_type": "stream",
     "text": [
      "/home/ahmedkhalid/anaconda3/lib/python3.12/site-packages/sklearn/ensemble/_weight_boosting.py:519: FutureWarning: The SAMME.R algorithm (the default) is deprecated and will be removed in 1.6. Use the SAMME algorithm to circumvent this warning.\n",
      "  warnings.warn(\n"
     ]
    },
    {
     "name": "stdout",
     "output_type": "stream",
     "text": [
      "[CV] END estimator__max_depth=3, learning_rate=0.2, n_estimators=200; total time=  22.0s\n"
     ]
    },
    {
     "name": "stderr",
     "output_type": "stream",
     "text": [
      "/home/ahmedkhalid/anaconda3/lib/python3.12/site-packages/sklearn/ensemble/_weight_boosting.py:519: FutureWarning: The SAMME.R algorithm (the default) is deprecated and will be removed in 1.6. Use the SAMME algorithm to circumvent this warning.\n",
      "  warnings.warn(\n"
     ]
    },
    {
     "name": "stdout",
     "output_type": "stream",
     "text": [
      "[CV] END estimator__max_depth=5, learning_rate=0.2, n_estimators=100; total time=  16.5s\n"
     ]
    },
    {
     "name": "stderr",
     "output_type": "stream",
     "text": [
      "/home/ahmedkhalid/anaconda3/lib/python3.12/site-packages/sklearn/ensemble/_weight_boosting.py:519: FutureWarning: The SAMME.R algorithm (the default) is deprecated and will be removed in 1.6. Use the SAMME algorithm to circumvent this warning.\n",
      "  warnings.warn(\n"
     ]
    },
    {
     "name": "stdout",
     "output_type": "stream",
     "text": [
      "[CV] END estimator__max_depth=5, learning_rate=0.2, n_estimators=100; total time=  17.6s\n"
     ]
    },
    {
     "name": "stderr",
     "output_type": "stream",
     "text": [
      "/home/ahmedkhalid/anaconda3/lib/python3.12/site-packages/sklearn/ensemble/_weight_boosting.py:519: FutureWarning: The SAMME.R algorithm (the default) is deprecated and will be removed in 1.6. Use the SAMME algorithm to circumvent this warning.\n",
      "  warnings.warn(\n"
     ]
    },
    {
     "name": "stdout",
     "output_type": "stream",
     "text": [
      "[CV] END estimator__max_depth=5, learning_rate=0.2, n_estimators=100; total time=  17.4s\n"
     ]
    },
    {
     "name": "stderr",
     "output_type": "stream",
     "text": [
      "/home/ahmedkhalid/anaconda3/lib/python3.12/site-packages/sklearn/ensemble/_weight_boosting.py:519: FutureWarning: The SAMME.R algorithm (the default) is deprecated and will be removed in 1.6. Use the SAMME algorithm to circumvent this warning.\n",
      "  warnings.warn(\n"
     ]
    },
    {
     "name": "stdout",
     "output_type": "stream",
     "text": [
      "[CV] END estimator__max_depth=3, learning_rate=0.2, n_estimators=200; total time=  20.6s\n"
     ]
    },
    {
     "name": "stderr",
     "output_type": "stream",
     "text": [
      "/home/ahmedkhalid/anaconda3/lib/python3.12/site-packages/sklearn/ensemble/_weight_boosting.py:519: FutureWarning: The SAMME.R algorithm (the default) is deprecated and will be removed in 1.6. Use the SAMME algorithm to circumvent this warning.\n",
      "  warnings.warn(\n"
     ]
    },
    {
     "name": "stdout",
     "output_type": "stream",
     "text": [
      "[CV] END estimator__max_depth=1, learning_rate=0.1, n_estimators=100; total time=   4.5s\n"
     ]
    },
    {
     "name": "stderr",
     "output_type": "stream",
     "text": [
      "/home/ahmedkhalid/anaconda3/lib/python3.12/site-packages/sklearn/ensemble/_weight_boosting.py:519: FutureWarning: The SAMME.R algorithm (the default) is deprecated and will be removed in 1.6. Use the SAMME algorithm to circumvent this warning.\n",
      "  warnings.warn(\n"
     ]
    },
    {
     "name": "stdout",
     "output_type": "stream",
     "text": [
      "[CV] END estimator__max_depth=1, learning_rate=0.1, n_estimators=100; total time=   4.6s\n"
     ]
    },
    {
     "name": "stderr",
     "output_type": "stream",
     "text": [
      "/home/ahmedkhalid/anaconda3/lib/python3.12/site-packages/sklearn/ensemble/_weight_boosting.py:519: FutureWarning: The SAMME.R algorithm (the default) is deprecated and will be removed in 1.6. Use the SAMME algorithm to circumvent this warning.\n",
      "  warnings.warn(\n"
     ]
    },
    {
     "name": "stdout",
     "output_type": "stream",
     "text": [
      "[CV] END estimator__max_depth=2, learning_rate=0.1, n_estimators=50; total time=   3.6s\n"
     ]
    },
    {
     "name": "stderr",
     "output_type": "stream",
     "text": [
      "/home/ahmedkhalid/anaconda3/lib/python3.12/site-packages/sklearn/ensemble/_weight_boosting.py:519: FutureWarning: The SAMME.R algorithm (the default) is deprecated and will be removed in 1.6. Use the SAMME algorithm to circumvent this warning.\n",
      "  warnings.warn(\n"
     ]
    },
    {
     "name": "stdout",
     "output_type": "stream",
     "text": [
      "[CV] END estimator__max_depth=4, learning_rate=0.2, n_estimators=200; total time=  25.6s\n"
     ]
    },
    {
     "name": "stderr",
     "output_type": "stream",
     "text": [
      "/home/ahmedkhalid/anaconda3/lib/python3.12/site-packages/sklearn/ensemble/_weight_boosting.py:519: FutureWarning: The SAMME.R algorithm (the default) is deprecated and will be removed in 1.6. Use the SAMME algorithm to circumvent this warning.\n",
      "  warnings.warn(\n"
     ]
    },
    {
     "name": "stdout",
     "output_type": "stream",
     "text": [
      "[CV] END estimator__max_depth=1, learning_rate=0.1, n_estimators=100; total time=   5.3s\n"
     ]
    },
    {
     "name": "stderr",
     "output_type": "stream",
     "text": [
      "/home/ahmedkhalid/anaconda3/lib/python3.12/site-packages/sklearn/ensemble/_weight_boosting.py:519: FutureWarning: The SAMME.R algorithm (the default) is deprecated and will be removed in 1.6. Use the SAMME algorithm to circumvent this warning.\n",
      "  warnings.warn(\n"
     ]
    },
    {
     "name": "stdout",
     "output_type": "stream",
     "text": [
      "[CV] END estimator__max_depth=4, learning_rate=0.2, n_estimators=200; total time=  27.8s\n"
     ]
    },
    {
     "name": "stderr",
     "output_type": "stream",
     "text": [
      "/home/ahmedkhalid/anaconda3/lib/python3.12/site-packages/sklearn/ensemble/_weight_boosting.py:519: FutureWarning: The SAMME.R algorithm (the default) is deprecated and will be removed in 1.6. Use the SAMME algorithm to circumvent this warning.\n",
      "  warnings.warn(\n"
     ]
    },
    {
     "name": "stdout",
     "output_type": "stream",
     "text": [
      "[CV] END estimator__max_depth=2, learning_rate=0.1, n_estimators=50; total time=   3.5s\n"
     ]
    },
    {
     "name": "stderr",
     "output_type": "stream",
     "text": [
      "/home/ahmedkhalid/anaconda3/lib/python3.12/site-packages/sklearn/ensemble/_weight_boosting.py:519: FutureWarning: The SAMME.R algorithm (the default) is deprecated and will be removed in 1.6. Use the SAMME algorithm to circumvent this warning.\n",
      "  warnings.warn(\n"
     ]
    },
    {
     "name": "stdout",
     "output_type": "stream",
     "text": [
      "[CV] END estimator__max_depth=2, learning_rate=0.1, n_estimators=50; total time=   4.9s\n"
     ]
    },
    {
     "name": "stderr",
     "output_type": "stream",
     "text": [
      "/home/ahmedkhalid/anaconda3/lib/python3.12/site-packages/sklearn/ensemble/_weight_boosting.py:519: FutureWarning: The SAMME.R algorithm (the default) is deprecated and will be removed in 1.6. Use the SAMME algorithm to circumvent this warning.\n",
      "  warnings.warn(\n"
     ]
    },
    {
     "name": "stdout",
     "output_type": "stream",
     "text": [
      "[CV] END estimator__max_depth=1, learning_rate=0.1, n_estimators=50; total time=   2.6s\n"
     ]
    },
    {
     "name": "stderr",
     "output_type": "stream",
     "text": [
      "/home/ahmedkhalid/anaconda3/lib/python3.12/site-packages/sklearn/ensemble/_weight_boosting.py:519: FutureWarning: The SAMME.R algorithm (the default) is deprecated and will be removed in 1.6. Use the SAMME algorithm to circumvent this warning.\n",
      "  warnings.warn(\n"
     ]
    },
    {
     "name": "stdout",
     "output_type": "stream",
     "text": [
      "[CV] END estimator__max_depth=1, learning_rate=0.2, n_estimators=200; total time=   8.6s\n"
     ]
    },
    {
     "name": "stderr",
     "output_type": "stream",
     "text": [
      "/home/ahmedkhalid/anaconda3/lib/python3.12/site-packages/sklearn/ensemble/_weight_boosting.py:519: FutureWarning: The SAMME.R algorithm (the default) is deprecated and will be removed in 1.6. Use the SAMME algorithm to circumvent this warning.\n",
      "  warnings.warn(\n"
     ]
    },
    {
     "name": "stdout",
     "output_type": "stream",
     "text": [
      "[CV] END estimator__max_depth=1, learning_rate=0.1, n_estimators=50; total time=   2.7s\n",
      "[CV] END estimator__max_depth=1, learning_rate=0.1, n_estimators=50; total time=   2.2s\n",
      "[CV] END estimator__max_depth=1, learning_rate=0.2, n_estimators=200; total time=   9.1s\n",
      "[CV] END estimator__max_depth=1, learning_rate=0.2, n_estimators=200; total time=   9.3s\n",
      "[CV] END estimator__max_depth=4, learning_rate=0.2, n_estimators=200; total time=  28.4s\n",
      "[CV] END estimator__max_depth=5, learning_rate=0.1, n_estimators=200; total time=  32.3s\n",
      "[CV] END estimator__max_depth=5, learning_rate=0.1, n_estimators=200; total time=  29.5s\n",
      "[CV] END estimator__max_depth=5, learning_rate=0.1, n_estimators=200; total time=  28.9s\n"
     ]
    },
    {
     "name": "stderr",
     "output_type": "stream",
     "text": [
      "/home/ahmedkhalid/anaconda3/lib/python3.12/site-packages/sklearn/ensemble/_weight_boosting.py:519: FutureWarning: The SAMME.R algorithm (the default) is deprecated and will be removed in 1.6. Use the SAMME algorithm to circumvent this warning.\n",
      "  warnings.warn(\n"
     ]
    },
    {
     "name": "stdout",
     "output_type": "stream",
     "text": [
      "\n",
      "AdaBoost Tuned Results\n",
      "Accuracy: 73.91%\n",
      "Training and Prediction Time: 61.14 seconds\n",
      "Confusion Matrix:\n",
      "[[5417 1571]\n",
      " [2081 4931]]\n",
      "Classification Report:\n",
      "              precision    recall  f1-score   support\n",
      "\n",
      "           0       0.72      0.78      0.75      6988\n",
      "           1       0.76      0.70      0.73      7012\n",
      "\n",
      "    accuracy                           0.74     14000\n",
      "   macro avg       0.74      0.74      0.74     14000\n",
      "weighted avg       0.74      0.74      0.74     14000\n",
      "\n",
      "Fitting 3 folds for each of 10 candidates, totalling 30 fits\n",
      "[CV] END ...learning_rate=0.1, max_depth=3, n_estimators=100; total time=   9.4s\n",
      "[CV] END ...learning_rate=0.1, max_depth=3, n_estimators=100; total time=   9.9s\n",
      "[CV] END ...learning_rate=0.1, max_depth=3, n_estimators=100; total time=   8.7s\n",
      "[CV] END ...learning_rate=0.2, max_depth=5, n_estimators=100; total time=  15.3s\n",
      "[CV] END ...learning_rate=0.1, max_depth=5, n_estimators=200; total time=  28.3s\n",
      "[CV] END ...learning_rate=0.2, max_depth=5, n_estimators=100; total time=  13.5s\n",
      "[CV] END ...learning_rate=0.1, max_depth=5, n_estimators=200; total time=  32.0s\n",
      "[CV] END ...learning_rate=0.1, max_depth=5, n_estimators=200; total time=  32.8s\n",
      "[CV] END ..learning_rate=0.01, max_depth=3, n_estimators=100; total time=   9.8s\n",
      "[CV] END ..learning_rate=0.01, max_depth=3, n_estimators=100; total time=   9.9s\n",
      "[CV] END ..learning_rate=0.01, max_depth=3, n_estimators=100; total time=  10.6s\n",
      "[CV] END ...learning_rate=0.2, max_depth=5, n_estimators=100; total time=  17.2s\n",
      "[CV] END ...learning_rate=0.1, max_depth=3, n_estimators=300; total time=  26.6s\n",
      "[CV] END ..learning_rate=0.01, max_depth=7, n_estimators=300; total time= 1.1min\n",
      "[CV] END ..learning_rate=0.01, max_depth=7, n_estimators=300; total time= 1.1min\n",
      "[CV] END ...learning_rate=0.1, max_depth=3, n_estimators=300; total time=  26.5s\n",
      "[CV] END ..learning_rate=0.01, max_depth=7, n_estimators=300; total time= 1.1min\n",
      "[CV] END ...learning_rate=0.1, max_depth=3, n_estimators=300; total time=  27.3s\n",
      "[CV] END ...learning_rate=0.1, max_depth=5, n_estimators=100; total time=  15.4s\n",
      "[CV] END ...learning_rate=0.1, max_depth=5, n_estimators=100; total time=  15.5s\n",
      "[CV] END ...learning_rate=0.1, max_depth=7, n_estimators=200; total time=  44.1s\n",
      "[CV] END ...learning_rate=0.1, max_depth=7, n_estimators=200; total time=  44.2s\n",
      "[CV] END ...learning_rate=0.1, max_depth=5, n_estimators=100; total time=  15.3s\n",
      "[CV] END ...learning_rate=0.1, max_depth=7, n_estimators=200; total time=  40.2s\n",
      "[CV] END ...learning_rate=0.2, max_depth=7, n_estimators=100; total time=  18.4s\n",
      "[CV] END ...learning_rate=0.2, max_depth=7, n_estimators=100; total time=  20.7s\n",
      "[CV] END ...learning_rate=0.2, max_depth=7, n_estimators=100; total time=  19.9s\n",
      "[CV] END ...learning_rate=0.1, max_depth=7, n_estimators=300; total time=  51.3s\n",
      "[CV] END ...learning_rate=0.1, max_depth=7, n_estimators=300; total time=  51.1s\n",
      "[CV] END ...learning_rate=0.1, max_depth=7, n_estimators=300; total time=  52.0s\n",
      "\n",
      "Gradient Boosting Tuned Results\n",
      "Accuracy: 73.74%\n",
      "Training and Prediction Time: 134.82 seconds\n",
      "Confusion Matrix:\n",
      "[[5366 1622]\n",
      " [2055 4957]]\n",
      "Classification Report:\n",
      "              precision    recall  f1-score   support\n",
      "\n",
      "           0       0.72      0.77      0.74      6988\n",
      "           1       0.75      0.71      0.73      7012\n",
      "\n",
      "    accuracy                           0.74     14000\n",
      "   macro avg       0.74      0.74      0.74     14000\n",
      "weighted avg       0.74      0.74      0.74     14000\n",
      "\n"
     ]
    }
   ],
   "source": [
    "from sklearn.ensemble import RandomForestClassifier, BaggingClassifier, AdaBoostClassifier, GradientBoostingClassifier\n",
    "from sklearn.tree import DecisionTreeClassifier\n",
    "from sklearn.model_selection import RandomizedSearchCV\n",
    "\n",
    "# Bagging Classifier with Decision Trees\n",
    "bagging_params = {\n",
    "    'n_estimators': [10, 20, 30],\n",
    "    'estimator__max_depth': [5, 10, None]  # Note the change here\n",
    "}\n",
    "\n",
    "bagging_model = BaggingClassifier(estimator=DecisionTreeClassifier(), random_state=42)\n",
    "bagging_random = RandomizedSearchCV(bagging_model, bagging_params, n_iter=10, cv=3, random_state=42, n_jobs=-1, verbose=2)\n",
    "\n",
    "scores.append(evaluate_model(bagging_random, X_train, Y_train, X_test, Y_test, \"Bagging with Decision Trees Tuned\"))\n",
    "algorithms.append(\"Bagging with Decision Trees Tuned\")\n",
    "\n",
    "# AdaBoost with hyperparameter tuning\n",
    "ada_params = {\n",
    "    'n_estimators': [50, 100, 200],\n",
    "    'learning_rate': [0.01, 0.1, 0.2],\n",
    "    'estimator__max_depth': [1, 2, 3, 4, 5]  # Updated here as well\n",
    "}\n",
    "\n",
    "ada_boost_tuned = AdaBoostClassifier(estimator=DecisionTreeClassifier(random_state=42), random_state=42)\n",
    "ada_random = RandomizedSearchCV(ada_boost_tuned, ada_params, n_iter=10, cv=3, random_state=42, n_jobs=-1, verbose=2)\n",
    "\n",
    "scores.append(evaluate_model(ada_random, X_train, Y_train, X_test, Y_test, \"AdaBoost Tuned\"))\n",
    "algorithms.append(\"AdaBoost Tuned\")\n",
    "\n",
    "# Gradient Boosting with basic hyperparameter tuning\n",
    "gb_params = {\n",
    "    'n_estimators': [100, 200, 300],\n",
    "    'learning_rate': [0.01, 0.1, 0.2],\n",
    "    'max_depth': [3, 5, 7]\n",
    "}\n",
    "\n",
    "gradient_boost = GradientBoostingClassifier(random_state=42)\n",
    "gb_random = RandomizedSearchCV(gradient_boost, gb_params, n_iter=10, cv=3, random_state=42, n_jobs=-1, verbose=2)\n",
    "\n",
    "scores.append(evaluate_model(gb_random, X_train, Y_train, X_test, Y_test, \"Gradient Boosting Tuned\"))\n",
    "algorithms.append(\"Gradient Boosting Tuned\")\n"
   ]
  },
  {
   "cell_type": "markdown",
   "id": "de0a2456",
   "metadata": {},
   "source": [
    "## ENSEMBLE MODEL"
   ]
  },
  {
   "cell_type": "code",
   "execution_count": 44,
   "id": "20b6bd3b",
   "metadata": {},
   "outputs": [
    {
     "name": "stdout",
     "output_type": "stream",
     "text": [
      "Fitting 3 folds for each of 9 candidates, totalling 27 fits\n"
     ]
    },
    {
     "name": "stderr",
     "output_type": "stream",
     "text": [
      "/home/ahmedkhalid/anaconda3/lib/python3.12/site-packages/sklearn/model_selection/_search.py:318: UserWarning: The total space of parameters 9 is smaller than n_iter=10. Running 9 iterations. For exhaustive searches, use GridSearchCV.\n",
      "  warnings.warn(\n"
     ]
    },
    {
     "name": "stdout",
     "output_type": "stream",
     "text": [
      "[CV] END ............estimator__max_depth=5, n_estimators=10; total time=   0.7s\n",
      "[CV] END ............estimator__max_depth=5, n_estimators=10; total time=   0.8s\n",
      "[CV] END ............estimator__max_depth=5, n_estimators=10; total time=   0.8s\n",
      "[CV] END ............estimator__max_depth=5, n_estimators=20; total time=   1.5s\n",
      "[CV] END ............estimator__max_depth=5, n_estimators=20; total time=   1.5s\n",
      "[CV] END ............estimator__max_depth=5, n_estimators=20; total time=   1.5s\n",
      "[CV] END ...........estimator__max_depth=10, n_estimators=10; total time=   1.4s\n",
      "[CV] END ...........estimator__max_depth=10, n_estimators=10; total time=   1.5s\n",
      "[CV] END ............estimator__max_depth=5, n_estimators=30; total time=   2.4s\n",
      "[CV] END ............estimator__max_depth=5, n_estimators=30; total time=   2.5s\n",
      "[CV] END ...........estimator__max_depth=10, n_estimators=10; total time=   1.6s\n",
      "[CV] END ............estimator__max_depth=5, n_estimators=30; total time=   2.4s\n",
      "[CV] END ...........estimator__max_depth=10, n_estimators=20; total time=   2.7s\n",
      "[CV] END ...........estimator__max_depth=10, n_estimators=20; total time=   3.3s\n",
      "[CV] END ...........estimator__max_depth=10, n_estimators=20; total time=   3.6s\n",
      "[CV] END .........estimator__max_depth=None, n_estimators=10; total time=   2.8s\n",
      "[CV] END .........estimator__max_depth=None, n_estimators=10; total time=   3.2s\n",
      "[CV] END ...........estimator__max_depth=10, n_estimators=30; total time=   4.5s\n",
      "[CV] END ...........estimator__max_depth=10, n_estimators=30; total time=   4.6s\n",
      "[CV] END ...........estimator__max_depth=10, n_estimators=30; total time=   4.7s\n",
      "[CV] END .........estimator__max_depth=None, n_estimators=10; total time=   3.0s\n",
      "[CV] END .........estimator__max_depth=None, n_estimators=20; total time=   5.2s\n",
      "[CV] END .........estimator__max_depth=None, n_estimators=20; total time=   5.2s\n",
      "[CV] END .........estimator__max_depth=None, n_estimators=20; total time=   5.6s\n",
      "[CV] END .........estimator__max_depth=None, n_estimators=30; total time=   6.5s\n",
      "[CV] END .........estimator__max_depth=None, n_estimators=30; total time=   7.0s\n",
      "[CV] END .........estimator__max_depth=None, n_estimators=30; total time=   6.5s\n",
      "\n",
      "Bagging with Decision Trees Tuned Results\n",
      "Accuracy: 73.57%\n",
      "Training and Prediction Time: 35.55 seconds\n",
      "Confusion Matrix:\n",
      "[[5436 1552]\n",
      " [2148 4864]]\n",
      "Classification Report:\n",
      "              precision    recall  f1-score   support\n",
      "\n",
      "           0       0.72      0.78      0.75      6988\n",
      "           1       0.76      0.69      0.72      7012\n",
      "\n",
      "    accuracy                           0.74     14000\n",
      "   macro avg       0.74      0.74      0.74     14000\n",
      "weighted avg       0.74      0.74      0.74     14000\n",
      "\n",
      "Fitting 3 folds for each of 10 candidates, totalling 30 fits\n"
     ]
    },
    {
     "name": "stderr",
     "output_type": "stream",
     "text": [
      "/home/ahmedkhalid/anaconda3/lib/python3.12/site-packages/sklearn/ensemble/_weight_boosting.py:519: FutureWarning: The SAMME.R algorithm (the default) is deprecated and will be removed in 1.6. Use the SAMME algorithm to circumvent this warning.\n",
      "  warnings.warn(\n",
      "/home/ahmedkhalid/anaconda3/lib/python3.12/site-packages/sklearn/ensemble/_weight_boosting.py:519: FutureWarning: The SAMME.R algorithm (the default) is deprecated and will be removed in 1.6. Use the SAMME algorithm to circumvent this warning.\n",
      "  warnings.warn(\n",
      "/home/ahmedkhalid/anaconda3/lib/python3.12/site-packages/sklearn/ensemble/_weight_boosting.py:519: FutureWarning: The SAMME.R algorithm (the default) is deprecated and will be removed in 1.6. Use the SAMME algorithm to circumvent this warning.\n",
      "  warnings.warn(\n",
      "/home/ahmedkhalid/anaconda3/lib/python3.12/site-packages/sklearn/ensemble/_weight_boosting.py:519: FutureWarning: The SAMME.R algorithm (the default) is deprecated and will be removed in 1.6. Use the SAMME algorithm to circumvent this warning.\n",
      "  warnings.warn(\n",
      "/home/ahmedkhalid/anaconda3/lib/python3.12/site-packages/sklearn/ensemble/_weight_boosting.py:519: FutureWarning: The SAMME.R algorithm (the default) is deprecated and will be removed in 1.6. Use the SAMME algorithm to circumvent this warning.\n",
      "  warnings.warn(\n",
      "/home/ahmedkhalid/anaconda3/lib/python3.12/site-packages/sklearn/ensemble/_weight_boosting.py:519: FutureWarning: The SAMME.R algorithm (the default) is deprecated and will be removed in 1.6. Use the SAMME algorithm to circumvent this warning.\n",
      "  warnings.warn(\n",
      "/home/ahmedkhalid/anaconda3/lib/python3.12/site-packages/sklearn/ensemble/_weight_boosting.py:519: FutureWarning: The SAMME.R algorithm (the default) is deprecated and will be removed in 1.6. Use the SAMME algorithm to circumvent this warning.\n",
      "  warnings.warn(\n",
      "/home/ahmedkhalid/anaconda3/lib/python3.12/site-packages/sklearn/ensemble/_weight_boosting.py:519: FutureWarning: The SAMME.R algorithm (the default) is deprecated and will be removed in 1.6. Use the SAMME algorithm to circumvent this warning.\n",
      "  warnings.warn(\n"
     ]
    },
    {
     "name": "stdout",
     "output_type": "stream",
     "text": [
      "[CV] END estimator__max_depth=5, learning_rate=0.1, n_estimators=50; total time=   7.4s\n",
      "[CV] END estimator__max_depth=5, learning_rate=0.1, n_estimators=50; total time=   7.5s\n"
     ]
    },
    {
     "name": "stderr",
     "output_type": "stream",
     "text": [
      "/home/ahmedkhalid/anaconda3/lib/python3.12/site-packages/sklearn/ensemble/_weight_boosting.py:519: FutureWarning: The SAMME.R algorithm (the default) is deprecated and will be removed in 1.6. Use the SAMME algorithm to circumvent this warning.\n",
      "  warnings.warn(\n",
      "/home/ahmedkhalid/anaconda3/lib/python3.12/site-packages/sklearn/ensemble/_weight_boosting.py:519: FutureWarning: The SAMME.R algorithm (the default) is deprecated and will be removed in 1.6. Use the SAMME algorithm to circumvent this warning.\n",
      "  warnings.warn(\n"
     ]
    },
    {
     "name": "stdout",
     "output_type": "stream",
     "text": [
      "[CV] END estimator__max_depth=5, learning_rate=0.1, n_estimators=50; total time=   8.0s\n"
     ]
    },
    {
     "name": "stderr",
     "output_type": "stream",
     "text": [
      "/home/ahmedkhalid/anaconda3/lib/python3.12/site-packages/sklearn/ensemble/_weight_boosting.py:519: FutureWarning: The SAMME.R algorithm (the default) is deprecated and will be removed in 1.6. Use the SAMME algorithm to circumvent this warning.\n",
      "  warnings.warn(\n"
     ]
    },
    {
     "name": "stdout",
     "output_type": "stream",
     "text": [
      "[CV] END estimator__max_depth=3, learning_rate=0.2, n_estimators=100; total time=   8.7s\n",
      "[CV] END estimator__max_depth=3, learning_rate=0.2, n_estimators=100; total time=   8.9s\n"
     ]
    },
    {
     "name": "stderr",
     "output_type": "stream",
     "text": [
      "/home/ahmedkhalid/anaconda3/lib/python3.12/site-packages/sklearn/ensemble/_weight_boosting.py:519: FutureWarning: The SAMME.R algorithm (the default) is deprecated and will be removed in 1.6. Use the SAMME algorithm to circumvent this warning.\n",
      "  warnings.warn(\n",
      "/home/ahmedkhalid/anaconda3/lib/python3.12/site-packages/sklearn/ensemble/_weight_boosting.py:519: FutureWarning: The SAMME.R algorithm (the default) is deprecated and will be removed in 1.6. Use the SAMME algorithm to circumvent this warning.\n",
      "  warnings.warn(\n"
     ]
    },
    {
     "name": "stdout",
     "output_type": "stream",
     "text": [
      "[CV] END estimator__max_depth=3, learning_rate=0.2, n_estimators=100; total time=   9.6s\n"
     ]
    },
    {
     "name": "stderr",
     "output_type": "stream",
     "text": [
      "/home/ahmedkhalid/anaconda3/lib/python3.12/site-packages/sklearn/ensemble/_weight_boosting.py:519: FutureWarning: The SAMME.R algorithm (the default) is deprecated and will be removed in 1.6. Use the SAMME algorithm to circumvent this warning.\n",
      "  warnings.warn(\n"
     ]
    },
    {
     "name": "stdout",
     "output_type": "stream",
     "text": [
      "[CV] END estimator__max_depth=3, learning_rate=0.2, n_estimators=200; total time=  17.5s\n"
     ]
    },
    {
     "name": "stderr",
     "output_type": "stream",
     "text": [
      "/home/ahmedkhalid/anaconda3/lib/python3.12/site-packages/sklearn/ensemble/_weight_boosting.py:519: FutureWarning: The SAMME.R algorithm (the default) is deprecated and will be removed in 1.6. Use the SAMME algorithm to circumvent this warning.\n",
      "  warnings.warn(\n"
     ]
    },
    {
     "name": "stdout",
     "output_type": "stream",
     "text": [
      "[CV] END estimator__max_depth=3, learning_rate=0.2, n_estimators=200; total time=  18.2s\n"
     ]
    },
    {
     "name": "stderr",
     "output_type": "stream",
     "text": [
      "/home/ahmedkhalid/anaconda3/lib/python3.12/site-packages/sklearn/ensemble/_weight_boosting.py:519: FutureWarning: The SAMME.R algorithm (the default) is deprecated and will be removed in 1.6. Use the SAMME algorithm to circumvent this warning.\n",
      "  warnings.warn(\n"
     ]
    },
    {
     "name": "stdout",
     "output_type": "stream",
     "text": [
      "[CV] END estimator__max_depth=5, learning_rate=0.2, n_estimators=100; total time=  15.6s\n"
     ]
    },
    {
     "name": "stderr",
     "output_type": "stream",
     "text": [
      "/home/ahmedkhalid/anaconda3/lib/python3.12/site-packages/sklearn/ensemble/_weight_boosting.py:519: FutureWarning: The SAMME.R algorithm (the default) is deprecated and will be removed in 1.6. Use the SAMME algorithm to circumvent this warning.\n",
      "  warnings.warn(\n"
     ]
    },
    {
     "name": "stdout",
     "output_type": "stream",
     "text": [
      "[CV] END estimator__max_depth=5, learning_rate=0.2, n_estimators=100; total time=  17.0s\n"
     ]
    },
    {
     "name": "stderr",
     "output_type": "stream",
     "text": [
      "/home/ahmedkhalid/anaconda3/lib/python3.12/site-packages/sklearn/ensemble/_weight_boosting.py:519: FutureWarning: The SAMME.R algorithm (the default) is deprecated and will be removed in 1.6. Use the SAMME algorithm to circumvent this warning.\n",
      "  warnings.warn(\n"
     ]
    },
    {
     "name": "stdout",
     "output_type": "stream",
     "text": [
      "[CV] END estimator__max_depth=5, learning_rate=0.2, n_estimators=100; total time=  17.1s\n"
     ]
    },
    {
     "name": "stderr",
     "output_type": "stream",
     "text": [
      "/home/ahmedkhalid/anaconda3/lib/python3.12/site-packages/sklearn/ensemble/_weight_boosting.py:519: FutureWarning: The SAMME.R algorithm (the default) is deprecated and will be removed in 1.6. Use the SAMME algorithm to circumvent this warning.\n",
      "  warnings.warn(\n"
     ]
    },
    {
     "name": "stdout",
     "output_type": "stream",
     "text": [
      "[CV] END estimator__max_depth=3, learning_rate=0.2, n_estimators=200; total time=  20.0s\n"
     ]
    },
    {
     "name": "stderr",
     "output_type": "stream",
     "text": [
      "/home/ahmedkhalid/anaconda3/lib/python3.12/site-packages/sklearn/ensemble/_weight_boosting.py:519: FutureWarning: The SAMME.R algorithm (the default) is deprecated and will be removed in 1.6. Use the SAMME algorithm to circumvent this warning.\n",
      "  warnings.warn(\n"
     ]
    },
    {
     "name": "stdout",
     "output_type": "stream",
     "text": [
      "[CV] END estimator__max_depth=1, learning_rate=0.1, n_estimators=100; total time=   4.4s\n"
     ]
    },
    {
     "name": "stderr",
     "output_type": "stream",
     "text": [
      "/home/ahmedkhalid/anaconda3/lib/python3.12/site-packages/sklearn/ensemble/_weight_boosting.py:519: FutureWarning: The SAMME.R algorithm (the default) is deprecated and will be removed in 1.6. Use the SAMME algorithm to circumvent this warning.\n",
      "  warnings.warn(\n"
     ]
    },
    {
     "name": "stdout",
     "output_type": "stream",
     "text": [
      "[CV] END estimator__max_depth=1, learning_rate=0.1, n_estimators=100; total time=   4.9s\n"
     ]
    },
    {
     "name": "stderr",
     "output_type": "stream",
     "text": [
      "/home/ahmedkhalid/anaconda3/lib/python3.12/site-packages/sklearn/ensemble/_weight_boosting.py:519: FutureWarning: The SAMME.R algorithm (the default) is deprecated and will be removed in 1.6. Use the SAMME algorithm to circumvent this warning.\n",
      "  warnings.warn(\n"
     ]
    },
    {
     "name": "stdout",
     "output_type": "stream",
     "text": [
      "[CV] END estimator__max_depth=1, learning_rate=0.1, n_estimators=100; total time=   4.3s\n"
     ]
    },
    {
     "name": "stderr",
     "output_type": "stream",
     "text": [
      "/home/ahmedkhalid/anaconda3/lib/python3.12/site-packages/sklearn/ensemble/_weight_boosting.py:519: FutureWarning: The SAMME.R algorithm (the default) is deprecated and will be removed in 1.6. Use the SAMME algorithm to circumvent this warning.\n",
      "  warnings.warn(\n"
     ]
    },
    {
     "name": "stdout",
     "output_type": "stream",
     "text": [
      "[CV] END estimator__max_depth=4, learning_rate=0.2, n_estimators=200; total time=  26.7s\n"
     ]
    },
    {
     "name": "stderr",
     "output_type": "stream",
     "text": [
      "/home/ahmedkhalid/anaconda3/lib/python3.12/site-packages/sklearn/ensemble/_weight_boosting.py:519: FutureWarning: The SAMME.R algorithm (the default) is deprecated and will be removed in 1.6. Use the SAMME algorithm to circumvent this warning.\n",
      "  warnings.warn(\n"
     ]
    },
    {
     "name": "stdout",
     "output_type": "stream",
     "text": [
      "[CV] END estimator__max_depth=2, learning_rate=0.1, n_estimators=50; total time=   3.8s\n"
     ]
    },
    {
     "name": "stderr",
     "output_type": "stream",
     "text": [
      "/home/ahmedkhalid/anaconda3/lib/python3.12/site-packages/sklearn/ensemble/_weight_boosting.py:519: FutureWarning: The SAMME.R algorithm (the default) is deprecated and will be removed in 1.6. Use the SAMME algorithm to circumvent this warning.\n",
      "  warnings.warn(\n"
     ]
    },
    {
     "name": "stdout",
     "output_type": "stream",
     "text": [
      "[CV] END estimator__max_depth=2, learning_rate=0.1, n_estimators=50; total time=   3.7s\n"
     ]
    },
    {
     "name": "stderr",
     "output_type": "stream",
     "text": [
      "/home/ahmedkhalid/anaconda3/lib/python3.12/site-packages/sklearn/ensemble/_weight_boosting.py:519: FutureWarning: The SAMME.R algorithm (the default) is deprecated and will be removed in 1.6. Use the SAMME algorithm to circumvent this warning.\n",
      "  warnings.warn(\n"
     ]
    },
    {
     "name": "stdout",
     "output_type": "stream",
     "text": [
      "[CV] END estimator__max_depth=4, learning_rate=0.2, n_estimators=200; total time=  28.4s\n"
     ]
    },
    {
     "name": "stderr",
     "output_type": "stream",
     "text": [
      "/home/ahmedkhalid/anaconda3/lib/python3.12/site-packages/sklearn/ensemble/_weight_boosting.py:519: FutureWarning: The SAMME.R algorithm (the default) is deprecated and will be removed in 1.6. Use the SAMME algorithm to circumvent this warning.\n",
      "  warnings.warn(\n"
     ]
    },
    {
     "name": "stdout",
     "output_type": "stream",
     "text": [
      "[CV] END estimator__max_depth=2, learning_rate=0.1, n_estimators=50; total time=   4.1s\n"
     ]
    },
    {
     "name": "stderr",
     "output_type": "stream",
     "text": [
      "/home/ahmedkhalid/anaconda3/lib/python3.12/site-packages/sklearn/ensemble/_weight_boosting.py:519: FutureWarning: The SAMME.R algorithm (the default) is deprecated and will be removed in 1.6. Use the SAMME algorithm to circumvent this warning.\n",
      "  warnings.warn(\n"
     ]
    },
    {
     "name": "stdout",
     "output_type": "stream",
     "text": [
      "[CV] END estimator__max_depth=1, learning_rate=0.1, n_estimators=50; total time=   2.3s\n"
     ]
    },
    {
     "name": "stderr",
     "output_type": "stream",
     "text": [
      "/home/ahmedkhalid/anaconda3/lib/python3.12/site-packages/sklearn/ensemble/_weight_boosting.py:519: FutureWarning: The SAMME.R algorithm (the default) is deprecated and will be removed in 1.6. Use the SAMME algorithm to circumvent this warning.\n",
      "  warnings.warn(\n"
     ]
    },
    {
     "name": "stdout",
     "output_type": "stream",
     "text": [
      "[CV] END estimator__max_depth=4, learning_rate=0.2, n_estimators=200; total time=  26.8s\n"
     ]
    },
    {
     "name": "stderr",
     "output_type": "stream",
     "text": [
      "/home/ahmedkhalid/anaconda3/lib/python3.12/site-packages/sklearn/ensemble/_weight_boosting.py:519: FutureWarning: The SAMME.R algorithm (the default) is deprecated and will be removed in 1.6. Use the SAMME algorithm to circumvent this warning.\n",
      "  warnings.warn(\n"
     ]
    },
    {
     "name": "stdout",
     "output_type": "stream",
     "text": [
      "[CV] END estimator__max_depth=1, learning_rate=0.2, n_estimators=200; total time=   8.4s\n",
      "[CV] END estimator__max_depth=1, learning_rate=0.1, n_estimators=50; total time=   2.8s\n",
      "[CV] END estimator__max_depth=1, learning_rate=0.1, n_estimators=50; total time=   1.9s\n",
      "[CV] END estimator__max_depth=1, learning_rate=0.2, n_estimators=200; total time=   8.9s\n",
      "[CV] END estimator__max_depth=5, learning_rate=0.1, n_estimators=200; total time=  29.0s\n",
      "[CV] END estimator__max_depth=1, learning_rate=0.2, n_estimators=200; total time=   9.7s\n",
      "[CV] END estimator__max_depth=5, learning_rate=0.1, n_estimators=200; total time=  26.8s\n",
      "[CV] END estimator__max_depth=5, learning_rate=0.1, n_estimators=200; total time=  27.5s\n"
     ]
    },
    {
     "name": "stderr",
     "output_type": "stream",
     "text": [
      "/home/ahmedkhalid/anaconda3/lib/python3.12/site-packages/sklearn/ensemble/_weight_boosting.py:519: FutureWarning: The SAMME.R algorithm (the default) is deprecated and will be removed in 1.6. Use the SAMME algorithm to circumvent this warning.\n",
      "  warnings.warn(\n"
     ]
    },
    {
     "name": "stdout",
     "output_type": "stream",
     "text": [
      "\n",
      "AdaBoost Tuned Results\n",
      "Accuracy: 73.91%\n",
      "Training and Prediction Time: 60.44 seconds\n",
      "Confusion Matrix:\n",
      "[[5417 1571]\n",
      " [2081 4931]]\n",
      "Classification Report:\n",
      "              precision    recall  f1-score   support\n",
      "\n",
      "           0       0.72      0.78      0.75      6988\n",
      "           1       0.76      0.70      0.73      7012\n",
      "\n",
      "    accuracy                           0.74     14000\n",
      "   macro avg       0.74      0.74      0.74     14000\n",
      "weighted avg       0.74      0.74      0.74     14000\n",
      "\n",
      "Fitting 3 folds for each of 10 candidates, totalling 30 fits\n",
      "[CV] END ...learning_rate=0.1, max_depth=3, n_estimators=100; total time=   7.8s\n",
      "[CV] END ...learning_rate=0.1, max_depth=3, n_estimators=100; total time=   8.5s\n",
      "[CV] END ...learning_rate=0.1, max_depth=3, n_estimators=100; total time=   8.7s\n",
      "[CV] END ...learning_rate=0.2, max_depth=5, n_estimators=100; total time=  16.3s\n",
      "[CV] END ...learning_rate=0.1, max_depth=5, n_estimators=200; total time=  28.9s\n",
      "[CV] END ...learning_rate=0.1, max_depth=5, n_estimators=200; total time=  29.0s\n",
      "[CV] END ...learning_rate=0.1, max_depth=5, n_estimators=200; total time=  31.0s\n",
      "[CV] END ...learning_rate=0.2, max_depth=5, n_estimators=100; total time=  18.4s\n",
      "[CV] END ..learning_rate=0.01, max_depth=3, n_estimators=100; total time=   9.8s\n",
      "[CV] END ..learning_rate=0.01, max_depth=3, n_estimators=100; total time=  10.2s\n",
      "[CV] END ...learning_rate=0.2, max_depth=5, n_estimators=100; total time=  16.5s\n",
      "[CV] END ..learning_rate=0.01, max_depth=3, n_estimators=100; total time=  11.0s\n",
      "[CV] END ...learning_rate=0.1, max_depth=3, n_estimators=300; total time=  25.6s\n",
      "[CV] END ...learning_rate=0.1, max_depth=3, n_estimators=300; total time=  25.9s\n",
      "[CV] END ..learning_rate=0.01, max_depth=7, n_estimators=300; total time= 1.1min\n",
      "[CV] END ..learning_rate=0.01, max_depth=7, n_estimators=300; total time= 1.1min\n",
      "[CV] END ..learning_rate=0.01, max_depth=7, n_estimators=300; total time= 1.1min\n",
      "[CV] END ...learning_rate=0.1, max_depth=3, n_estimators=300; total time=  27.3s\n",
      "[CV] END ...learning_rate=0.1, max_depth=5, n_estimators=100; total time=  14.1s\n",
      "[CV] END ...learning_rate=0.1, max_depth=5, n_estimators=100; total time=  14.4s\n",
      "[CV] END ...learning_rate=0.1, max_depth=7, n_estimators=200; total time=  41.2s\n",
      "[CV] END ...learning_rate=0.1, max_depth=7, n_estimators=200; total time=  41.9s\n",
      "[CV] END ...learning_rate=0.1, max_depth=5, n_estimators=100; total time=  16.0s\n",
      "[CV] END ...learning_rate=0.2, max_depth=7, n_estimators=100; total time=  20.1s\n",
      "[CV] END ...learning_rate=0.2, max_depth=7, n_estimators=100; total time=  19.3s\n",
      "[CV] END ...learning_rate=0.1, max_depth=7, n_estimators=200; total time=  41.8s\n",
      "[CV] END ...learning_rate=0.2, max_depth=7, n_estimators=100; total time=  19.3s\n",
      "[CV] END ...learning_rate=0.1, max_depth=7, n_estimators=300; total time=  49.7s\n",
      "[CV] END ...learning_rate=0.1, max_depth=7, n_estimators=300; total time=  50.5s\n",
      "[CV] END ...learning_rate=0.1, max_depth=7, n_estimators=300; total time=  50.9s\n",
      "\n",
      "Gradient Boosting Tuned Results\n",
      "Accuracy: 73.74%\n",
      "Training and Prediction Time: 143.62 seconds\n",
      "Confusion Matrix:\n",
      "[[5366 1622]\n",
      " [2055 4957]]\n",
      "Classification Report:\n",
      "              precision    recall  f1-score   support\n",
      "\n",
      "           0       0.72      0.77      0.74      6988\n",
      "           1       0.75      0.71      0.73      7012\n",
      "\n",
      "    accuracy                           0.74     14000\n",
      "   macro avg       0.74      0.74      0.74     14000\n",
      "weighted avg       0.74      0.74      0.74     14000\n",
      "\n"
     ]
    }
   ],
   "source": [
    "from sklearn.ensemble import StackingClassifier\n",
    "from sklearn.linear_model import LogisticRegression\n",
    "\n",
    "# Assuming your individual models are named lr, nb, sv, knn, dt, rf, xgb_model, bagging_model, ada_boost, gradient_boost, model (NN)\n",
    "\n",
    "# Define a list of tuples with your base models\n",
    "base_models = [\n",
    "    ('lr', lr),\n",
    "    ('svm', sv),\n",
    "    ('rf', rf),\n",
    "    ('xgb', xgb_model),\n",
    "    ('bagging', bagging_model),\n",
    "    ('ada', ada_boost_tuned),\n",
    "    ('gradient_boost', gradient_boost)\n",
    "   \n",
    "]\n",
    "\n",
    "# Define the final meta-learner model\n",
    "final_estimator = LogisticRegression()\n",
    "\n",
    "# Create the stacking ensemble\n",
    "stack_model = StackingClassifier(estimators=base_models, final_estimator=final_estimator, cv=5)\n",
    "\n",
    "# Fit the model on the entire training data\n",
    "stack_model.fit(X_train, Y_train)\n",
    "\n",
    "# Evaluate the model\n",
    "stack_pred = stack_model.predict(X_test)\n",
    "stack_accuracy = accuracy_score(Y_test, stack_pred)\n",
    "\n",
    "print(f\"\\nStacking Ensemble Model Results\")\n",
    "print(f\"Accuracy: {stack_accuracy}%\")\n",
    "print(\"Confusion Matrix:\")\n",
    "print(confusion_matrix(Y_test, stack_pred))\n",
    "print(\"Classification Report:\")\n",
    "print(classification_report(Y_test, stack_pred))\n"
   ]
  },
  {
   "cell_type": "markdown",
   "id": "81bbfa13",
   "metadata": {},
   "source": [
    "## NN model "
   ]
  },
  {
   "cell_type": "code",
   "execution_count": 34,
   "id": "b674f730",
   "metadata": {},
   "outputs": [
    {
     "name": "stdout",
     "output_type": "stream",
     "text": [
      "WARNING:tensorflow:From C:\\Users\\test\\anaconda3\\Lib\\site-packages\\keras\\src\\backend.py:873: The name tf.get_default_graph is deprecated. Please use tf.compat.v1.get_default_graph instead.\n",
      "\n",
      "WARNING:tensorflow:From C:\\Users\\test\\anaconda3\\Lib\\site-packages\\keras\\src\\optimizers\\__init__.py:309: The name tf.train.Optimizer is deprecated. Please use tf.compat.v1.train.Optimizer instead.\n",
      "\n",
      "Epoch 1/300\n",
      "WARNING:tensorflow:From C:\\Users\\test\\anaconda3\\Lib\\site-packages\\keras\\src\\utils\\tf_utils.py:492: The name tf.ragged.RaggedTensorValue is deprecated. Please use tf.compat.v1.ragged.RaggedTensorValue instead.\n",
      "\n",
      "WARNING:tensorflow:From C:\\Users\\test\\anaconda3\\Lib\\site-packages\\keras\\src\\engine\\base_layer_utils.py:384: The name tf.executing_eagerly_outside_functions is deprecated. Please use tf.compat.v1.executing_eagerly_outside_functions instead.\n",
      "\n",
      "1750/1750 [==============================] - 4s 2ms/step - loss: 0.6288 - accuracy: 0.6530 - val_loss: 0.6016 - val_accuracy: 0.6835\n",
      "Epoch 2/300\n",
      "1750/1750 [==============================] - 3s 1ms/step - loss: 0.5966 - accuracy: 0.6926 - val_loss: 0.5780 - val_accuracy: 0.7133\n",
      "Epoch 3/300\n",
      "1750/1750 [==============================] - 3s 1ms/step - loss: 0.5764 - accuracy: 0.7189 - val_loss: 0.5686 - val_accuracy: 0.7298\n",
      "Epoch 4/300\n",
      "1750/1750 [==============================] - 3s 1ms/step - loss: 0.5697 - accuracy: 0.7248 - val_loss: 0.5661 - val_accuracy: 0.7304\n",
      "Epoch 5/300\n",
      "1750/1750 [==============================] - 3s 2ms/step - loss: 0.5669 - accuracy: 0.7272 - val_loss: 0.5674 - val_accuracy: 0.7291\n",
      "Epoch 6/300\n",
      "1750/1750 [==============================] - 2s 1ms/step - loss: 0.5651 - accuracy: 0.7269 - val_loss: 0.5655 - val_accuracy: 0.7309\n",
      "Epoch 7/300\n",
      "1750/1750 [==============================] - 3s 1ms/step - loss: 0.5637 - accuracy: 0.7279 - val_loss: 0.5650 - val_accuracy: 0.7319\n",
      "Epoch 8/300\n",
      "1750/1750 [==============================] - 3s 1ms/step - loss: 0.5627 - accuracy: 0.7281 - val_loss: 0.5638 - val_accuracy: 0.7327\n",
      "Epoch 9/300\n",
      "1750/1750 [==============================] - 2s 1ms/step - loss: 0.5612 - accuracy: 0.7282 - val_loss: 0.5637 - val_accuracy: 0.7309\n",
      "Epoch 10/300\n",
      "1750/1750 [==============================] - 3s 1ms/step - loss: 0.5603 - accuracy: 0.7279 - val_loss: 0.5638 - val_accuracy: 0.7322\n",
      "Epoch 11/300\n",
      "1750/1750 [==============================] - 2s 1ms/step - loss: 0.5591 - accuracy: 0.7289 - val_loss: 0.5656 - val_accuracy: 0.7321\n",
      "Epoch 12/300\n",
      "1750/1750 [==============================] - 3s 1ms/step - loss: 0.5591 - accuracy: 0.7272 - val_loss: 0.5634 - val_accuracy: 0.7317\n",
      "Epoch 13/300\n",
      "1750/1750 [==============================] - 2s 1ms/step - loss: 0.5585 - accuracy: 0.7289 - val_loss: 0.5620 - val_accuracy: 0.7324\n",
      "Epoch 14/300\n",
      "1750/1750 [==============================] - 2s 1ms/step - loss: 0.5585 - accuracy: 0.7278 - val_loss: 0.5629 - val_accuracy: 0.7317\n",
      "Epoch 15/300\n",
      "1750/1750 [==============================] - 3s 1ms/step - loss: 0.5584 - accuracy: 0.7286 - val_loss: 0.5628 - val_accuracy: 0.7322\n",
      "Epoch 16/300\n",
      "1750/1750 [==============================] - 2s 1ms/step - loss: 0.5582 - accuracy: 0.7287 - val_loss: 0.5622 - val_accuracy: 0.7331\n",
      "Epoch 17/300\n",
      "1750/1750 [==============================] - 2s 1ms/step - loss: 0.5580 - accuracy: 0.7282 - val_loss: 0.5630 - val_accuracy: 0.7313\n",
      "Epoch 18/300\n",
      "1750/1750 [==============================] - 2s 1ms/step - loss: 0.5581 - accuracy: 0.7291 - val_loss: 0.5627 - val_accuracy: 0.7347\n",
      "Epoch 19/300\n",
      "1750/1750 [==============================] - 2s 1ms/step - loss: 0.5578 - accuracy: 0.7290 - val_loss: 0.5618 - val_accuracy: 0.7346\n",
      "Epoch 20/300\n",
      "1750/1750 [==============================] - 3s 1ms/step - loss: 0.5578 - accuracy: 0.7300 - val_loss: 0.5631 - val_accuracy: 0.7329\n",
      "Epoch 21/300\n",
      "1750/1750 [==============================] - 3s 1ms/step - loss: 0.5575 - accuracy: 0.7305 - val_loss: 0.5631 - val_accuracy: 0.7307\n",
      "Epoch 22/300\n",
      "1750/1750 [==============================] - 2s 1ms/step - loss: 0.5579 - accuracy: 0.7290 - val_loss: 0.5620 - val_accuracy: 0.7354\n",
      "Epoch 23/300\n",
      "1750/1750 [==============================] - 2s 1ms/step - loss: 0.5577 - accuracy: 0.7286 - val_loss: 0.5625 - val_accuracy: 0.7307\n",
      "Epoch 24/300\n",
      "1750/1750 [==============================] - 3s 1ms/step - loss: 0.5575 - accuracy: 0.7291 - val_loss: 0.5627 - val_accuracy: 0.7339\n",
      "Epoch 25/300\n",
      "1750/1750 [==============================] - 3s 1ms/step - loss: 0.5575 - accuracy: 0.7293 - val_loss: 0.5630 - val_accuracy: 0.7337\n",
      "Epoch 26/300\n",
      "1750/1750 [==============================] - 2s 1ms/step - loss: 0.5577 - accuracy: 0.7296 - val_loss: 0.5625 - val_accuracy: 0.7346\n",
      "Epoch 27/300\n",
      "1750/1750 [==============================] - 3s 1ms/step - loss: 0.5573 - accuracy: 0.7290 - val_loss: 0.5623 - val_accuracy: 0.7350\n",
      "Epoch 28/300\n",
      "1750/1750 [==============================] - 3s 1ms/step - loss: 0.5573 - accuracy: 0.7292 - val_loss: 0.5629 - val_accuracy: 0.7317\n",
      "Epoch 29/300\n",
      "1750/1750 [==============================] - 3s 1ms/step - loss: 0.5572 - accuracy: 0.7291 - val_loss: 0.5614 - val_accuracy: 0.7324\n",
      "Epoch 30/300\n",
      "1750/1750 [==============================] - 2s 1ms/step - loss: 0.5573 - accuracy: 0.7292 - val_loss: 0.5624 - val_accuracy: 0.7349\n",
      "Epoch 31/300\n",
      "1750/1750 [==============================] - 3s 1ms/step - loss: 0.5573 - accuracy: 0.7297 - val_loss: 0.5622 - val_accuracy: 0.7325\n",
      "Epoch 32/300\n",
      "1750/1750 [==============================] - 3s 1ms/step - loss: 0.5571 - accuracy: 0.7290 - val_loss: 0.5628 - val_accuracy: 0.7326\n",
      "Epoch 33/300\n",
      "1750/1750 [==============================] - 3s 1ms/step - loss: 0.5574 - accuracy: 0.7287 - val_loss: 0.5625 - val_accuracy: 0.7336\n",
      "Epoch 34/300\n",
      "1750/1750 [==============================] - 3s 1ms/step - loss: 0.5574 - accuracy: 0.7291 - val_loss: 0.5615 - val_accuracy: 0.7344\n",
      "Epoch 35/300\n",
      "1750/1750 [==============================] - 3s 1ms/step - loss: 0.5572 - accuracy: 0.7293 - val_loss: 0.5624 - val_accuracy: 0.7353\n",
      "Epoch 36/300\n",
      "1750/1750 [==============================] - 3s 1ms/step - loss: 0.5571 - accuracy: 0.7292 - val_loss: 0.5631 - val_accuracy: 0.7319\n",
      "Epoch 37/300\n",
      "1750/1750 [==============================] - 3s 1ms/step - loss: 0.5571 - accuracy: 0.7294 - val_loss: 0.5615 - val_accuracy: 0.7349\n",
      "Epoch 38/300\n",
      "1750/1750 [==============================] - 3s 1ms/step - loss: 0.5570 - accuracy: 0.7286 - val_loss: 0.5621 - val_accuracy: 0.7319\n",
      "Epoch 39/300\n",
      "1750/1750 [==============================] - 3s 1ms/step - loss: 0.5571 - accuracy: 0.7301 - val_loss: 0.5623 - val_accuracy: 0.7322\n",
      "438/438 [==============================] - 1s 972us/step\n",
      "\n",
      "Neural Network Results\n",
      "Accuracy: 73.24%\n"
     ]
    }
   ],
   "source": [
    "# Neural Network\n",
    "model = Sequential()\n",
    "model.add(Dense(11, activation='relu', input_dim=12))\n",
    "model.add(Dense(1, activation='sigmoid'))\n",
    "model.compile(loss='binary_crossentropy', optimizer='adam', metrics=['accuracy'])\n",
    "early_stopping = EarlyStopping(monitor='val_loss', patience=10, restore_best_weights=True)\n",
    "\n",
    "# Set verbose=1 to see the animated progress bar\n",
    "history = model.fit(X_train, Y_train, epochs=40, validation_data=(X_test, Y_test), callbacks=[early_stopping], verbose=1)\n",
    "\n",
    "Y_pred_nn = (model.predict(X_test) > 0.5).astype(int).reshape(-1)\n",
    "score_nn = round(accuracy_score(Y_pred_nn, Y_test) * 100, 2)\n",
    "print(f\"\\nNeural Network Results\\nAccuracy: {score_nn}%\")\n",
    "scores.append(score_nn)\n",
    "algorithms.append(\"Neural Network\")\n"
   ]
  },
  {
   "cell_type": "markdown",
   "id": "7c1ade4d",
   "metadata": {},
   "source": [
    "# MODEL COMPARSION"
   ]
  },
  {
   "cell_type": "code",
   "execution_count": 42,
   "id": "d87156c3",
   "metadata": {},
   "outputs": [
    {
     "name": "stderr",
     "output_type": "stream",
     "text": [
      "/tmp/ipykernel_26705/2010128107.py:38: FutureWarning: \n",
      "\n",
      "Passing `palette` without assigning `hue` is deprecated and will be removed in v0.14.0. Assign the `y` variable to `hue` and set `legend=False` for the same effect.\n",
      "\n",
      "  sns.barplot(x=scores, y=algorithms, palette=\"viridis\")\n"
     ]
    },
    {
     "data": {
      "image/png": "[encoded data removed]",
      "text/plain": [
       "<Figure size 1200x1000 with 1 Axes>"
      ]
     },
     "metadata": {},
     "output_type": "display_data"
    }
   ],
   "source": [
    "import matplotlib.pyplot as plt\n",
    "import seaborn as sns\n",
    "\n",
    "# Updated scores based on your model results\n",
    "scores = [\n",
    "    72.38,  # Logistic Regression Tuned\n",
    "    59.34,  # Naive Bayes Tuned\n",
    "    73.83,  # XGBoost Tuned\n",
    "    73.26,  # SVM Tuned\n",
    "    63.76,  # KNN Tuned\n",
    "    72.93,  # Decision Tree Tuned\n",
    "    73.85,  # Random Forest Tuned\n",
    "    73.91,  # AdaBoost Tuned\n",
    "    73.74,  # Gradient Boosting Tuned\n",
    "    73.57,  # Bagging with Decision Trees Tuned\n",
    "    73.24,  # Neural Network\n",
    "    73.92   # Stacking Ensemble\n",
    "]\n",
    "\n",
    "# Corresponding algorithms\n",
    "algorithms = [\n",
    "    \"Logistic Regression Tuned\",\n",
    "    \"Naive Bayes Tuned\",\n",
    "    \"XGBoost Tuned\",\n",
    "    \"SVM Tuned\",\n",
    "    \"KNN Tuned\",\n",
    "    \"Decision Tree Tuned\",\n",
    "    \"Random Forest Tuned\",\n",
    "    \"AdaBoost Tuned\",\n",
    "    \"Gradient Boosting Tuned\",\n",
    "    \"Bagging with Decision Trees Tuned\",\n",
    "    \"Neural Network\",\n",
    "    \"Stacking Ensemble\"\n",
    "]\n",
    "\n",
    "# Plotting Model Comparisons\n",
    "plt.figure(figsize=(12, 10))\n",
    "sns.barplot(x=scores, y=algorithms, palette=\"viridis\")\n",
    "\n",
    "# Adding annotations to each bar for displaying the accuracy in percentage\n",
    "for index, value in enumerate(scores):\n",
    "    plt.text(value, index, f'{value:.2f}%')\n",
    "\n",
    "plt.xlabel('Accuracy %')\n",
    "plt.title('Model Comparison')\n",
    "plt.xlim(0, 100)  # Accuracy scores are in percentage\n",
    "plt.show()\n"
   ]
  },
  {
   "cell_type": "code",
   "execution_count": 47,
   "id": "1e848d4d",
   "metadata": {},
   "outputs": [
    {
     "name": "stdout",
     "output_type": "stream",
     "text": [
      "['id' 'age' 'gender' 'height' 'weight' 'ap_hi' 'ap_lo' 'cholesterol'\n",
      " 'gluc' 'smoke' 'alco' 'active']\n"
     ]
    }
   ],
   "source": [
    "import joblib\n",
    "scaler = joblib.load('scaler.pkl')\n",
    "print(scaler.feature_names_in_)  # إذا كانت هذه الميزة متاحة"
   ]
  },
  {
   "cell_type": "code",
   "execution_count": null,
   "id": "4d52a05c",
   "metadata": {},
   "outputs": [],
   "source": []
  }
 ],
 "metadata": {
  "accelerator": "GPU",
  "colab": {
   "gpuType": "T4",
   "provenance": []
  },
  "kernelspec": {
   "display_name": "base",
   "language": "python",
   "name": "python3"
  },
  "language_info": {
   "codemirror_mode": {
    "name": "ipython",
    "version": 3
   },
   "file_extension": ".py",
   "mimetype": "text/x-python",
   "name": "python",
   "nbconvert_exporter": "python",
   "pygments_lexer": "ipython3",
   "version": "3.12.4"
  }
 },
 "nbformat": 4,
 "nbformat_minor": 5
}
